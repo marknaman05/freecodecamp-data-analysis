{
  "cells": [
    {
      "cell_type": "markdown",
      "metadata": {
        "id": "view-in-github",
        "colab_type": "text"
      },
      "source": [
        "<a href=\"https://colab.research.google.com/github/marknaman05/freecodecamp-data-analysis/blob/main/pandas_practice_assignment.ipynb\" target=\"_parent\"><img src=\"https://colab.research.google.com/assets/colab-badge.svg\" alt=\"Open In Colab\"/></a>"
      ]
    },
    {
      "cell_type": "markdown",
      "metadata": {
        "id": "10A33U0hXe5I"
      },
      "source": [
        "# Assignment 3 - Pandas Data Analysis Practice\n",
        "\n",
        "*This assignment is a part of the course [\"Data Analysis with Python: Zero to Pandas\"](https://jovian.ai/learn/data-analysis-with-python-zero-to-pandas)*\n",
        "\n",
        "In this assignment, you'll get to practice some of the concepts and skills covered in this tutorial: https://jovian.ai/aakashns/python-pandas-data-analysis\n",
        "\n",
        "As you go through this notebook, you will find a **???** in certain places. To complete this assignment, you must replace all the **???** with appropriate values, expressions or statements to ensure that the notebook runs properly end-to-end.\n",
        "\n",
        "Some things to keep in mind:\n",
        "\n",
        "* Make sure to run all the code cells, otherwise you may get errors like `NameError` for undefined variables.\n",
        "* Do not change variable names, delete cells or disturb other existing code. It may cause problems during evaluation.\n",
        "* In some cases, you may need to add some code cells or new statements before or after the line of code containing the **???**.\n",
        "* Since you'll be using a temporary online service for code execution, save your work by running `jovian.commit` at regular intervals.\n",
        "* Questions marked **(Optional)** will not be considered for evaluation, and can be skipped. They are for your learning.\n",
        "\n",
        "You can make submissions on this page: https://jovian.ai/learn/data-analysis-with-python-zero-to-pandas/assignment/assignment-3-pandas-practice\n",
        "\n",
        "If you are stuck, you can ask for help on the community forum: https://jovian.ai/forum/t/assignment-3-pandas-practice/11225/3. You can get help with errors or ask for hints, describe your approach in simple words, link to documentation, but **please don't ask for or share the full working answer code** on the forum.\n",
        "\n",
        "\n",
        "## How to run the code and save your work\n",
        "\n",
        "The recommended way to run this notebook is to click the \"Run\" button at the top of this page, and select \"Run on Binder\". This will run the notebook on [mybinder.org](https://mybinder.org), a free online service for running Jupyter notebooks.\n",
        "\n",
        "Before starting the assignment, let's save a snapshot of the assignment to your Jovian.ai profile, so that you can access it later, and continue your work."
      ]
    },
    {
      "cell_type": "code",
      "execution_count": null,
      "metadata": {
        "colab": {
          "base_uri": "https://localhost:8080/"
        },
        "id": "yJS4i-_1YwNI",
        "outputId": "a287619c-0c3b-4191-e089-a471de6e6542"
      },
      "outputs": [
        {
          "name": "stdout",
          "output_type": "stream",
          "text": [
            "Looking in indexes: https://pypi.org/simple, https://us-python.pkg.dev/colab-wheels/public/simple/\n",
            "Requirement already satisfied: jovian in /usr/local/lib/python3.10/dist-packages (0.2.47)\n",
            "Requirement already satisfied: requests in /usr/local/lib/python3.10/dist-packages (from jovian) (2.27.1)\n",
            "Requirement already satisfied: uuid in /usr/local/lib/python3.10/dist-packages (from jovian) (1.30)\n",
            "Requirement already satisfied: pyyaml in /usr/local/lib/python3.10/dist-packages (from jovian) (6.0)\n",
            "Requirement already satisfied: click in /usr/local/lib/python3.10/dist-packages (from jovian) (8.1.3)\n",
            "Requirement already satisfied: urllib3<1.27,>=1.21.1 in /usr/local/lib/python3.10/dist-packages (from requests->jovian) (1.26.15)\n",
            "Requirement already satisfied: certifi>=2017.4.17 in /usr/local/lib/python3.10/dist-packages (from requests->jovian) (2022.12.7)\n",
            "Requirement already satisfied: charset-normalizer~=2.0.0 in /usr/local/lib/python3.10/dist-packages (from requests->jovian) (2.0.12)\n",
            "Requirement already satisfied: idna<4,>=2.5 in /usr/local/lib/python3.10/dist-packages (from requests->jovian) (3.4)\n"
          ]
        }
      ],
      "source": [
        "!pip install jovian"
      ]
    },
    {
      "cell_type": "code",
      "execution_count": null,
      "metadata": {
        "id": "K8qjfjc0Xe5V"
      },
      "outputs": [],
      "source": [
        "import jovian"
      ]
    },
    {
      "cell_type": "code",
      "execution_count": null,
      "metadata": {
        "colab": {
          "base_uri": "https://localhost:8080/"
        },
        "id": "ix7RNOK7Xe5b",
        "outputId": "5f21e78e-ee9d-4feb-c76e-05f7dafec983"
      },
      "outputs": [
        {
          "name": "stdout",
          "output_type": "stream",
          "text": [
            "[jovian] Detected Colab notebook...\u001b[0m\n",
            "[jovian] jovian.commit() is no longer required on Google Colab. If you ran this notebook from Jovian, \n",
            "then just save this file in Colab using Ctrl+S/Cmd+S and it will be updated on Jovian. \n",
            "Also, you can also delete this cell, it's no longer necessary.\u001b[0m\n"
          ]
        }
      ],
      "source": [
        "jovian.commit(project='pandas-practice-assignment', environment=None)"
      ]
    },
    {
      "cell_type": "code",
      "execution_count": null,
      "metadata": {
        "colab": {
          "base_uri": "https://localhost:8080/"
        },
        "id": "IaKmNDlWXe5h",
        "outputId": "c3e1bc2e-c7f9-483b-d2ec-76864065eabd"
      },
      "outputs": [
        {
          "name": "stdout",
          "output_type": "stream",
          "text": [
            "Looking in indexes: https://pypi.org/simple, https://us-python.pkg.dev/colab-wheels/public/simple/\n",
            "Requirement already satisfied: pandas in /usr/local/lib/python3.10/dist-packages (2.0.2)\n",
            "Requirement already satisfied: python-dateutil>=2.8.2 in /usr/local/lib/python3.10/dist-packages (from pandas) (2.8.2)\n",
            "Requirement already satisfied: pytz>=2020.1 in /usr/local/lib/python3.10/dist-packages (from pandas) (2022.7.1)\n",
            "Requirement already satisfied: tzdata>=2022.1 in /usr/local/lib/python3.10/dist-packages (from pandas) (2023.3)\n",
            "Requirement already satisfied: numpy>=1.21.0 in /usr/local/lib/python3.10/dist-packages (from pandas) (1.22.4)\n",
            "Requirement already satisfied: six>=1.5 in /usr/local/lib/python3.10/dist-packages (from python-dateutil>=2.8.2->pandas) (1.16.0)\n"
          ]
        }
      ],
      "source": [
        "# Run the next line to install Pandas\n",
        "!pip install pandas --upgrade"
      ]
    },
    {
      "cell_type": "code",
      "execution_count": null,
      "metadata": {
        "id": "xjsGZEnNXe5m"
      },
      "outputs": [],
      "source": [
        "import pandas as pd"
      ]
    },
    {
      "cell_type": "markdown",
      "metadata": {
        "id": "s5E6OWRnXe5r"
      },
      "source": [
        "In this assignment, we're going to analyze an operate on data from a CSV file. Let's begin by downloading the CSV file."
      ]
    },
    {
      "cell_type": "code",
      "execution_count": null,
      "metadata": {
        "colab": {
          "base_uri": "https://localhost:8080/"
        },
        "id": "sXGRZKNwXe5u",
        "outputId": "66d4cc75-09b1-43d7-fb38-c1efd52399c7"
      },
      "outputs": [
        {
          "data": {
            "text/plain": [
              "('countries.csv', <http.client.HTTPMessage at 0x7f6b9eec30d0>)"
            ]
          },
          "execution_count": 236,
          "metadata": {},
          "output_type": "execute_result"
        }
      ],
      "source": [
        "from urllib.request import urlretrieve\n",
        "\n",
        "urlretrieve('https://gist.githubusercontent.com/aakashns/28b2e504b3350afd9bdb157893f9725c/raw/994b65665757f4f8887db1c85986a897abb23d84/countries.csv',\n",
        "            'countries.csv')"
      ]
    },
    {
      "cell_type": "markdown",
      "metadata": {
        "id": "duNB-yTuXe5y"
      },
      "source": [
        "Let's load the data from the CSV file into a Pandas data frame."
      ]
    },
    {
      "cell_type": "code",
      "execution_count": null,
      "metadata": {
        "id": "zmAan2lHXe52"
      },
      "outputs": [],
      "source": [
        "countries_df = pd.read_csv('countries.csv')"
      ]
    },
    {
      "cell_type": "code",
      "execution_count": null,
      "metadata": {
        "colab": {
          "base_uri": "https://localhost:8080/",
          "height": 423
        },
        "id": "Lmf8toekXe57",
        "outputId": "1ea7a45b-4f6f-4872-e61d-2871f9e90c80"
      },
      "outputs": [
        {
          "data": {
            "text/html": [
              "\n",
              "  <div id=\"df-19def9d3-1e71-40a7-81df-27efe62b3a37\">\n",
              "    <div class=\"colab-df-container\">\n",
              "      <div>\n",
              "<style scoped>\n",
              "    .dataframe tbody tr th:only-of-type {\n",
              "        vertical-align: middle;\n",
              "    }\n",
              "\n",
              "    .dataframe tbody tr th {\n",
              "        vertical-align: top;\n",
              "    }\n",
              "\n",
              "    .dataframe thead th {\n",
              "        text-align: right;\n",
              "    }\n",
              "</style>\n",
              "<table border=\"1\" class=\"dataframe\">\n",
              "  <thead>\n",
              "    <tr style=\"text-align: right;\">\n",
              "      <th></th>\n",
              "      <th>location</th>\n",
              "      <th>continent</th>\n",
              "      <th>population</th>\n",
              "      <th>life_expectancy</th>\n",
              "      <th>hospital_beds_per_thousand</th>\n",
              "      <th>gdp_per_capita</th>\n",
              "    </tr>\n",
              "  </thead>\n",
              "  <tbody>\n",
              "    <tr>\n",
              "      <th>0</th>\n",
              "      <td>Afghanistan</td>\n",
              "      <td>Asia</td>\n",
              "      <td>38928341.0</td>\n",
              "      <td>64.83</td>\n",
              "      <td>0.50</td>\n",
              "      <td>1803.987</td>\n",
              "    </tr>\n",
              "    <tr>\n",
              "      <th>1</th>\n",
              "      <td>Albania</td>\n",
              "      <td>Europe</td>\n",
              "      <td>2877800.0</td>\n",
              "      <td>78.57</td>\n",
              "      <td>2.89</td>\n",
              "      <td>11803.431</td>\n",
              "    </tr>\n",
              "    <tr>\n",
              "      <th>2</th>\n",
              "      <td>Algeria</td>\n",
              "      <td>Africa</td>\n",
              "      <td>43851043.0</td>\n",
              "      <td>76.88</td>\n",
              "      <td>1.90</td>\n",
              "      <td>13913.839</td>\n",
              "    </tr>\n",
              "    <tr>\n",
              "      <th>3</th>\n",
              "      <td>Andorra</td>\n",
              "      <td>Europe</td>\n",
              "      <td>77265.0</td>\n",
              "      <td>83.73</td>\n",
              "      <td>NaN</td>\n",
              "      <td>NaN</td>\n",
              "    </tr>\n",
              "    <tr>\n",
              "      <th>4</th>\n",
              "      <td>Angola</td>\n",
              "      <td>Africa</td>\n",
              "      <td>32866268.0</td>\n",
              "      <td>61.15</td>\n",
              "      <td>NaN</td>\n",
              "      <td>5819.495</td>\n",
              "    </tr>\n",
              "    <tr>\n",
              "      <th>...</th>\n",
              "      <td>...</td>\n",
              "      <td>...</td>\n",
              "      <td>...</td>\n",
              "      <td>...</td>\n",
              "      <td>...</td>\n",
              "      <td>...</td>\n",
              "    </tr>\n",
              "    <tr>\n",
              "      <th>205</th>\n",
              "      <td>Vietnam</td>\n",
              "      <td>Asia</td>\n",
              "      <td>97338583.0</td>\n",
              "      <td>75.40</td>\n",
              "      <td>2.60</td>\n",
              "      <td>6171.884</td>\n",
              "    </tr>\n",
              "    <tr>\n",
              "      <th>206</th>\n",
              "      <td>Western Sahara</td>\n",
              "      <td>Africa</td>\n",
              "      <td>597330.0</td>\n",
              "      <td>70.26</td>\n",
              "      <td>NaN</td>\n",
              "      <td>NaN</td>\n",
              "    </tr>\n",
              "    <tr>\n",
              "      <th>207</th>\n",
              "      <td>Yemen</td>\n",
              "      <td>Asia</td>\n",
              "      <td>29825968.0</td>\n",
              "      <td>66.12</td>\n",
              "      <td>0.70</td>\n",
              "      <td>1479.147</td>\n",
              "    </tr>\n",
              "    <tr>\n",
              "      <th>208</th>\n",
              "      <td>Zambia</td>\n",
              "      <td>Africa</td>\n",
              "      <td>18383956.0</td>\n",
              "      <td>63.89</td>\n",
              "      <td>2.00</td>\n",
              "      <td>3689.251</td>\n",
              "    </tr>\n",
              "    <tr>\n",
              "      <th>209</th>\n",
              "      <td>Zimbabwe</td>\n",
              "      <td>Africa</td>\n",
              "      <td>14862927.0</td>\n",
              "      <td>61.49</td>\n",
              "      <td>1.70</td>\n",
              "      <td>1899.775</td>\n",
              "    </tr>\n",
              "  </tbody>\n",
              "</table>\n",
              "<p>210 rows × 6 columns</p>\n",
              "</div>\n",
              "      <button class=\"colab-df-convert\" onclick=\"convertToInteractive('df-19def9d3-1e71-40a7-81df-27efe62b3a37')\"\n",
              "              title=\"Convert this dataframe to an interactive table.\"\n",
              "              style=\"display:none;\">\n",
              "        \n",
              "  <svg xmlns=\"http://www.w3.org/2000/svg\" height=\"24px\"viewBox=\"0 0 24 24\"\n",
              "       width=\"24px\">\n",
              "    <path d=\"M0 0h24v24H0V0z\" fill=\"none\"/>\n",
              "    <path d=\"M18.56 5.44l.94 2.06.94-2.06 2.06-.94-2.06-.94-.94-2.06-.94 2.06-2.06.94zm-11 1L8.5 8.5l.94-2.06 2.06-.94-2.06-.94L8.5 2.5l-.94 2.06-2.06.94zm10 10l.94 2.06.94-2.06 2.06-.94-2.06-.94-.94-2.06-.94 2.06-2.06.94z\"/><path d=\"M17.41 7.96l-1.37-1.37c-.4-.4-.92-.59-1.43-.59-.52 0-1.04.2-1.43.59L10.3 9.45l-7.72 7.72c-.78.78-.78 2.05 0 2.83L4 21.41c.39.39.9.59 1.41.59.51 0 1.02-.2 1.41-.59l7.78-7.78 2.81-2.81c.8-.78.8-2.07 0-2.86zM5.41 20L4 18.59l7.72-7.72 1.47 1.35L5.41 20z\"/>\n",
              "  </svg>\n",
              "      </button>\n",
              "      \n",
              "  <style>\n",
              "    .colab-df-container {\n",
              "      display:flex;\n",
              "      flex-wrap:wrap;\n",
              "      gap: 12px;\n",
              "    }\n",
              "\n",
              "    .colab-df-convert {\n",
              "      background-color: #E8F0FE;\n",
              "      border: none;\n",
              "      border-radius: 50%;\n",
              "      cursor: pointer;\n",
              "      display: none;\n",
              "      fill: #1967D2;\n",
              "      height: 32px;\n",
              "      padding: 0 0 0 0;\n",
              "      width: 32px;\n",
              "    }\n",
              "\n",
              "    .colab-df-convert:hover {\n",
              "      background-color: #E2EBFA;\n",
              "      box-shadow: 0px 1px 2px rgba(60, 64, 67, 0.3), 0px 1px 3px 1px rgba(60, 64, 67, 0.15);\n",
              "      fill: #174EA6;\n",
              "    }\n",
              "\n",
              "    [theme=dark] .colab-df-convert {\n",
              "      background-color: #3B4455;\n",
              "      fill: #D2E3FC;\n",
              "    }\n",
              "\n",
              "    [theme=dark] .colab-df-convert:hover {\n",
              "      background-color: #434B5C;\n",
              "      box-shadow: 0px 1px 3px 1px rgba(0, 0, 0, 0.15);\n",
              "      filter: drop-shadow(0px 1px 2px rgba(0, 0, 0, 0.3));\n",
              "      fill: #FFFFFF;\n",
              "    }\n",
              "  </style>\n",
              "\n",
              "      <script>\n",
              "        const buttonEl =\n",
              "          document.querySelector('#df-19def9d3-1e71-40a7-81df-27efe62b3a37 button.colab-df-convert');\n",
              "        buttonEl.style.display =\n",
              "          google.colab.kernel.accessAllowed ? 'block' : 'none';\n",
              "\n",
              "        async function convertToInteractive(key) {\n",
              "          const element = document.querySelector('#df-19def9d3-1e71-40a7-81df-27efe62b3a37');\n",
              "          const dataTable =\n",
              "            await google.colab.kernel.invokeFunction('convertToInteractive',\n",
              "                                                     [key], {});\n",
              "          if (!dataTable) return;\n",
              "\n",
              "          const docLinkHtml = 'Like what you see? Visit the ' +\n",
              "            '<a target=\"_blank\" href=https://colab.research.google.com/notebooks/data_table.ipynb>data table notebook</a>'\n",
              "            + ' to learn more about interactive tables.';\n",
              "          element.innerHTML = '';\n",
              "          dataTable['output_type'] = 'display_data';\n",
              "          await google.colab.output.renderOutput(dataTable, element);\n",
              "          const docLink = document.createElement('div');\n",
              "          docLink.innerHTML = docLinkHtml;\n",
              "          element.appendChild(docLink);\n",
              "        }\n",
              "      </script>\n",
              "    </div>\n",
              "  </div>\n",
              "  "
            ],
            "text/plain": [
              "           location continent  population  life_expectancy  \\\n",
              "0       Afghanistan      Asia  38928341.0            64.83   \n",
              "1           Albania    Europe   2877800.0            78.57   \n",
              "2           Algeria    Africa  43851043.0            76.88   \n",
              "3           Andorra    Europe     77265.0            83.73   \n",
              "4            Angola    Africa  32866268.0            61.15   \n",
              "..              ...       ...         ...              ...   \n",
              "205         Vietnam      Asia  97338583.0            75.40   \n",
              "206  Western Sahara    Africa    597330.0            70.26   \n",
              "207           Yemen      Asia  29825968.0            66.12   \n",
              "208          Zambia    Africa  18383956.0            63.89   \n",
              "209        Zimbabwe    Africa  14862927.0            61.49   \n",
              "\n",
              "     hospital_beds_per_thousand  gdp_per_capita  \n",
              "0                          0.50        1803.987  \n",
              "1                          2.89       11803.431  \n",
              "2                          1.90       13913.839  \n",
              "3                           NaN             NaN  \n",
              "4                           NaN        5819.495  \n",
              "..                          ...             ...  \n",
              "205                        2.60        6171.884  \n",
              "206                         NaN             NaN  \n",
              "207                        0.70        1479.147  \n",
              "208                        2.00        3689.251  \n",
              "209                        1.70        1899.775  \n",
              "\n",
              "[210 rows x 6 columns]"
            ]
          },
          "execution_count": 238,
          "metadata": {},
          "output_type": "execute_result"
        }
      ],
      "source": [
        "countries_df"
      ]
    },
    {
      "cell_type": "markdown",
      "metadata": {
        "id": "Pbl5aTo5Xe5-"
      },
      "source": [
        "**Q1: How many countries does the dataframe contain?**\n",
        "\n",
        "Hint: Use the `.shape` method."
      ]
    },
    {
      "cell_type": "code",
      "execution_count": null,
      "metadata": {
        "id": "Cpn7IuVXXe6A"
      },
      "outputs": [],
      "source": [
        "num_countries = countries_df.shape"
      ]
    },
    {
      "cell_type": "code",
      "execution_count": null,
      "metadata": {
        "colab": {
          "base_uri": "https://localhost:8080/"
        },
        "id": "-fyBeTG5Xe6E",
        "outputId": "1def66d7-bff9-4069-c5ca-c21aa1bcbbcc"
      },
      "outputs": [
        {
          "name": "stdout",
          "output_type": "stream",
          "text": [
            "There are (210, 6) countries in the dataset\n"
          ]
        }
      ],
      "source": [
        "print('There are {} countries in the dataset'.format(num_countries))"
      ]
    },
    {
      "cell_type": "code",
      "execution_count": null,
      "metadata": {
        "colab": {
          "base_uri": "https://localhost:8080/"
        },
        "id": "NpAeId2LXe6G",
        "outputId": "97f83e3a-8645-4922-db6f-39c893ff4927"
      },
      "outputs": [
        {
          "name": "stdout",
          "output_type": "stream",
          "text": [
            "[jovian] Detected Colab notebook...\u001b[0m\n",
            "[jovian] jovian.commit() is no longer required on Google Colab. If you ran this notebook from Jovian, \n",
            "then just save this file in Colab using Ctrl+S/Cmd+S and it will be updated on Jovian. \n",
            "Also, you can also delete this cell, it's no longer necessary.\u001b[0m\n"
          ]
        }
      ],
      "source": [
        "jovian.commit(project='pandas-practice-assignment', environment=None)"
      ]
    },
    {
      "cell_type": "markdown",
      "metadata": {
        "id": "UGWWAK3GXe6I"
      },
      "source": [
        "**Q2: Retrieve a list of continents from the dataframe?**\n",
        "\n",
        "*Hint: Use the `.unique` method of a series.*"
      ]
    },
    {
      "cell_type": "code",
      "execution_count": null,
      "metadata": {
        "id": "mQIvf9Q1Xe6J"
      },
      "outputs": [],
      "source": [
        "continents = countries_df['continent'].unique()"
      ]
    },
    {
      "cell_type": "code",
      "execution_count": null,
      "metadata": {
        "colab": {
          "base_uri": "https://localhost:8080/"
        },
        "id": "p2XxddDyXe6M",
        "outputId": "de5f2310-57c8-48b0-e962-9ccd89a7b580"
      },
      "outputs": [
        {
          "data": {
            "text/plain": [
              "array(['Asia', 'Europe', 'Africa', 'North America', 'South America',\n",
              "       'Oceania'], dtype=object)"
            ]
          },
          "execution_count": 243,
          "metadata": {},
          "output_type": "execute_result"
        }
      ],
      "source": [
        "continents"
      ]
    },
    {
      "cell_type": "code",
      "execution_count": null,
      "metadata": {
        "colab": {
          "base_uri": "https://localhost:8080/"
        },
        "id": "Ia5khooeXe6O",
        "outputId": "d79a3075-b0c1-4d45-dea5-41c566da146f"
      },
      "outputs": [
        {
          "name": "stdout",
          "output_type": "stream",
          "text": [
            "[jovian] Detected Colab notebook...\u001b[0m\n",
            "[jovian] jovian.commit() is no longer required on Google Colab. If you ran this notebook from Jovian, \n",
            "then just save this file in Colab using Ctrl+S/Cmd+S and it will be updated on Jovian. \n",
            "Also, you can also delete this cell, it's no longer necessary.\u001b[0m\n"
          ]
        }
      ],
      "source": [
        "jovian.commit(project='pandas-practice-assignment', environment=None)"
      ]
    },
    {
      "cell_type": "markdown",
      "metadata": {
        "id": "bQjus6wtXe6Q"
      },
      "source": [
        "**Q3: What is the total population of all the countries listed in this dataset?**"
      ]
    },
    {
      "cell_type": "code",
      "execution_count": null,
      "metadata": {
        "id": "tCjlmqcEXe6T"
      },
      "outputs": [],
      "source": [
        "total_population = countries_df['population'].sum()"
      ]
    },
    {
      "cell_type": "code",
      "execution_count": null,
      "metadata": {
        "colab": {
          "base_uri": "https://localhost:8080/"
        },
        "id": "L5LinOC_Xe6X",
        "outputId": "688882f8-24e9-4bd5-cbd7-0d4184452d78"
      },
      "outputs": [
        {
          "name": "stdout",
          "output_type": "stream",
          "text": [
            "The total population is 7757980095.\n"
          ]
        }
      ],
      "source": [
        "print('The total population is {}.'.format(int(total_population)))"
      ]
    },
    {
      "cell_type": "code",
      "execution_count": null,
      "metadata": {
        "colab": {
          "base_uri": "https://localhost:8080/"
        },
        "id": "cgR2CmD_Xe6Y",
        "outputId": "ebfb7cb4-d3e5-4291-eb7c-354f8b32bee5"
      },
      "outputs": [
        {
          "name": "stdout",
          "output_type": "stream",
          "text": [
            "[jovian] Detected Colab notebook...\u001b[0m\n",
            "[jovian] jovian.commit() is no longer required on Google Colab. If you ran this notebook from Jovian, \n",
            "then just save this file in Colab using Ctrl+S/Cmd+S and it will be updated on Jovian. \n",
            "Also, you can also delete this cell, it's no longer necessary.\u001b[0m\n"
          ]
        }
      ],
      "source": [
        "jovian.commit(project='pandas-practice-assignment', environment=None)"
      ]
    },
    {
      "cell_type": "markdown",
      "metadata": {
        "id": "eqfgJzcjXe6Z"
      },
      "source": [
        "**Q: (Optional) What is the overall life expectancy across in the world?**\n",
        "\n",
        "*Hint: You'll need to take a weighted average of life expectancy using populations as weights.*"
      ]
    },
    {
      "cell_type": "code",
      "execution_count": null,
      "metadata": {
        "id": "HX6wXISyXe6a"
      },
      "outputs": [],
      "source": [
        "life_expectancy_overall = countries_df['life_expectancy'].mean()"
      ]
    },
    {
      "cell_type": "code",
      "execution_count": null,
      "metadata": {
        "colab": {
          "base_uri": "https://localhost:8080/"
        },
        "id": "p3W3rZpGXe6c",
        "outputId": "14c1e9bf-e5c1-4547-ac78-29b8bd77a877"
      },
      "outputs": [
        {
          "name": "stdout",
          "output_type": "stream",
          "text": [
            "The total overall life expectancy across in the world is 73.52985507246377.\n"
          ]
        }
      ],
      "source": [
        "print('The total overall life expectancy across in the world is {}.'.format(float(life_expectancy_overall)))"
      ]
    },
    {
      "cell_type": "code",
      "execution_count": null,
      "metadata": {
        "colab": {
          "base_uri": "https://localhost:8080/"
        },
        "id": "CI9kQtQqXe6e",
        "outputId": "b66724b0-b94d-414c-d65c-cdbf35d28250"
      },
      "outputs": [
        {
          "name": "stdout",
          "output_type": "stream",
          "text": [
            "[jovian] Detected Colab notebook...\u001b[0m\n",
            "[jovian] jovian.commit() is no longer required on Google Colab. If you ran this notebook from Jovian, \n",
            "then just save this file in Colab using Ctrl+S/Cmd+S and it will be updated on Jovian. \n",
            "Also, you can also delete this cell, it's no longer necessary.\u001b[0m\n"
          ]
        }
      ],
      "source": [
        "jovian.commit(project='pandas-practice-assignment', environment=None)"
      ]
    },
    {
      "cell_type": "markdown",
      "metadata": {
        "id": "Nto_zOXtXe6f"
      },
      "source": [
        "**Q4: Create a dataframe containing 10 countries with the highest population.**\n",
        "\n",
        "*Hint: Chain the `sort_values` and `head` methods.*"
      ]
    },
    {
      "cell_type": "code",
      "execution_count": null,
      "metadata": {
        "id": "6bJOUyASXe6h"
      },
      "outputs": [],
      "source": [
        "most_populous_df = countries_df.sort_values(by=['population'],ascending=False).head(10)"
      ]
    },
    {
      "cell_type": "code",
      "execution_count": null,
      "metadata": {
        "colab": {
          "base_uri": "https://localhost:8080/",
          "height": 363
        },
        "id": "VT8SbK4sXe6j",
        "outputId": "906b6062-0967-4bb3-b0cd-c923bd7aa096"
      },
      "outputs": [
        {
          "data": {
            "text/html": [
              "\n",
              "  <div id=\"df-ab59c71e-1120-479f-8d85-0da25c461411\">\n",
              "    <div class=\"colab-df-container\">\n",
              "      <div>\n",
              "<style scoped>\n",
              "    .dataframe tbody tr th:only-of-type {\n",
              "        vertical-align: middle;\n",
              "    }\n",
              "\n",
              "    .dataframe tbody tr th {\n",
              "        vertical-align: top;\n",
              "    }\n",
              "\n",
              "    .dataframe thead th {\n",
              "        text-align: right;\n",
              "    }\n",
              "</style>\n",
              "<table border=\"1\" class=\"dataframe\">\n",
              "  <thead>\n",
              "    <tr style=\"text-align: right;\">\n",
              "      <th></th>\n",
              "      <th>location</th>\n",
              "      <th>continent</th>\n",
              "      <th>population</th>\n",
              "      <th>life_expectancy</th>\n",
              "      <th>hospital_beds_per_thousand</th>\n",
              "      <th>gdp_per_capita</th>\n",
              "    </tr>\n",
              "  </thead>\n",
              "  <tbody>\n",
              "    <tr>\n",
              "      <th>41</th>\n",
              "      <td>China</td>\n",
              "      <td>Asia</td>\n",
              "      <td>1.439324e+09</td>\n",
              "      <td>76.91</td>\n",
              "      <td>4.34</td>\n",
              "      <td>15308.712</td>\n",
              "    </tr>\n",
              "    <tr>\n",
              "      <th>90</th>\n",
              "      <td>India</td>\n",
              "      <td>Asia</td>\n",
              "      <td>1.380004e+09</td>\n",
              "      <td>69.66</td>\n",
              "      <td>0.53</td>\n",
              "      <td>6426.674</td>\n",
              "    </tr>\n",
              "    <tr>\n",
              "      <th>199</th>\n",
              "      <td>United States</td>\n",
              "      <td>North America</td>\n",
              "      <td>3.310026e+08</td>\n",
              "      <td>78.86</td>\n",
              "      <td>2.77</td>\n",
              "      <td>54225.446</td>\n",
              "    </tr>\n",
              "    <tr>\n",
              "      <th>91</th>\n",
              "      <td>Indonesia</td>\n",
              "      <td>Asia</td>\n",
              "      <td>2.735236e+08</td>\n",
              "      <td>71.72</td>\n",
              "      <td>1.04</td>\n",
              "      <td>11188.744</td>\n",
              "    </tr>\n",
              "    <tr>\n",
              "      <th>145</th>\n",
              "      <td>Pakistan</td>\n",
              "      <td>Asia</td>\n",
              "      <td>2.208923e+08</td>\n",
              "      <td>67.27</td>\n",
              "      <td>0.60</td>\n",
              "      <td>5034.708</td>\n",
              "    </tr>\n",
              "    <tr>\n",
              "      <th>27</th>\n",
              "      <td>Brazil</td>\n",
              "      <td>South America</td>\n",
              "      <td>2.125594e+08</td>\n",
              "      <td>75.88</td>\n",
              "      <td>2.20</td>\n",
              "      <td>14103.452</td>\n",
              "    </tr>\n",
              "    <tr>\n",
              "      <th>141</th>\n",
              "      <td>Nigeria</td>\n",
              "      <td>Africa</td>\n",
              "      <td>2.061396e+08</td>\n",
              "      <td>54.69</td>\n",
              "      <td>NaN</td>\n",
              "      <td>5338.454</td>\n",
              "    </tr>\n",
              "    <tr>\n",
              "      <th>15</th>\n",
              "      <td>Bangladesh</td>\n",
              "      <td>Asia</td>\n",
              "      <td>1.646894e+08</td>\n",
              "      <td>72.59</td>\n",
              "      <td>0.80</td>\n",
              "      <td>3523.984</td>\n",
              "    </tr>\n",
              "    <tr>\n",
              "      <th>157</th>\n",
              "      <td>Russia</td>\n",
              "      <td>Europe</td>\n",
              "      <td>1.459345e+08</td>\n",
              "      <td>72.58</td>\n",
              "      <td>8.05</td>\n",
              "      <td>24765.954</td>\n",
              "    </tr>\n",
              "    <tr>\n",
              "      <th>125</th>\n",
              "      <td>Mexico</td>\n",
              "      <td>North America</td>\n",
              "      <td>1.289328e+08</td>\n",
              "      <td>75.05</td>\n",
              "      <td>1.38</td>\n",
              "      <td>17336.469</td>\n",
              "    </tr>\n",
              "  </tbody>\n",
              "</table>\n",
              "</div>\n",
              "      <button class=\"colab-df-convert\" onclick=\"convertToInteractive('df-ab59c71e-1120-479f-8d85-0da25c461411')\"\n",
              "              title=\"Convert this dataframe to an interactive table.\"\n",
              "              style=\"display:none;\">\n",
              "        \n",
              "  <svg xmlns=\"http://www.w3.org/2000/svg\" height=\"24px\"viewBox=\"0 0 24 24\"\n",
              "       width=\"24px\">\n",
              "    <path d=\"M0 0h24v24H0V0z\" fill=\"none\"/>\n",
              "    <path d=\"M18.56 5.44l.94 2.06.94-2.06 2.06-.94-2.06-.94-.94-2.06-.94 2.06-2.06.94zm-11 1L8.5 8.5l.94-2.06 2.06-.94-2.06-.94L8.5 2.5l-.94 2.06-2.06.94zm10 10l.94 2.06.94-2.06 2.06-.94-2.06-.94-.94-2.06-.94 2.06-2.06.94z\"/><path d=\"M17.41 7.96l-1.37-1.37c-.4-.4-.92-.59-1.43-.59-.52 0-1.04.2-1.43.59L10.3 9.45l-7.72 7.72c-.78.78-.78 2.05 0 2.83L4 21.41c.39.39.9.59 1.41.59.51 0 1.02-.2 1.41-.59l7.78-7.78 2.81-2.81c.8-.78.8-2.07 0-2.86zM5.41 20L4 18.59l7.72-7.72 1.47 1.35L5.41 20z\"/>\n",
              "  </svg>\n",
              "      </button>\n",
              "      \n",
              "  <style>\n",
              "    .colab-df-container {\n",
              "      display:flex;\n",
              "      flex-wrap:wrap;\n",
              "      gap: 12px;\n",
              "    }\n",
              "\n",
              "    .colab-df-convert {\n",
              "      background-color: #E8F0FE;\n",
              "      border: none;\n",
              "      border-radius: 50%;\n",
              "      cursor: pointer;\n",
              "      display: none;\n",
              "      fill: #1967D2;\n",
              "      height: 32px;\n",
              "      padding: 0 0 0 0;\n",
              "      width: 32px;\n",
              "    }\n",
              "\n",
              "    .colab-df-convert:hover {\n",
              "      background-color: #E2EBFA;\n",
              "      box-shadow: 0px 1px 2px rgba(60, 64, 67, 0.3), 0px 1px 3px 1px rgba(60, 64, 67, 0.15);\n",
              "      fill: #174EA6;\n",
              "    }\n",
              "\n",
              "    [theme=dark] .colab-df-convert {\n",
              "      background-color: #3B4455;\n",
              "      fill: #D2E3FC;\n",
              "    }\n",
              "\n",
              "    [theme=dark] .colab-df-convert:hover {\n",
              "      background-color: #434B5C;\n",
              "      box-shadow: 0px 1px 3px 1px rgba(0, 0, 0, 0.15);\n",
              "      filter: drop-shadow(0px 1px 2px rgba(0, 0, 0, 0.3));\n",
              "      fill: #FFFFFF;\n",
              "    }\n",
              "  </style>\n",
              "\n",
              "      <script>\n",
              "        const buttonEl =\n",
              "          document.querySelector('#df-ab59c71e-1120-479f-8d85-0da25c461411 button.colab-df-convert');\n",
              "        buttonEl.style.display =\n",
              "          google.colab.kernel.accessAllowed ? 'block' : 'none';\n",
              "\n",
              "        async function convertToInteractive(key) {\n",
              "          const element = document.querySelector('#df-ab59c71e-1120-479f-8d85-0da25c461411');\n",
              "          const dataTable =\n",
              "            await google.colab.kernel.invokeFunction('convertToInteractive',\n",
              "                                                     [key], {});\n",
              "          if (!dataTable) return;\n",
              "\n",
              "          const docLinkHtml = 'Like what you see? Visit the ' +\n",
              "            '<a target=\"_blank\" href=https://colab.research.google.com/notebooks/data_table.ipynb>data table notebook</a>'\n",
              "            + ' to learn more about interactive tables.';\n",
              "          element.innerHTML = '';\n",
              "          dataTable['output_type'] = 'display_data';\n",
              "          await google.colab.output.renderOutput(dataTable, element);\n",
              "          const docLink = document.createElement('div');\n",
              "          docLink.innerHTML = docLinkHtml;\n",
              "          element.appendChild(docLink);\n",
              "        }\n",
              "      </script>\n",
              "    </div>\n",
              "  </div>\n",
              "  "
            ],
            "text/plain": [
              "          location      continent    population  life_expectancy  \\\n",
              "41           China           Asia  1.439324e+09            76.91   \n",
              "90           India           Asia  1.380004e+09            69.66   \n",
              "199  United States  North America  3.310026e+08            78.86   \n",
              "91       Indonesia           Asia  2.735236e+08            71.72   \n",
              "145       Pakistan           Asia  2.208923e+08            67.27   \n",
              "27          Brazil  South America  2.125594e+08            75.88   \n",
              "141        Nigeria         Africa  2.061396e+08            54.69   \n",
              "15      Bangladesh           Asia  1.646894e+08            72.59   \n",
              "157         Russia         Europe  1.459345e+08            72.58   \n",
              "125         Mexico  North America  1.289328e+08            75.05   \n",
              "\n",
              "     hospital_beds_per_thousand  gdp_per_capita  \n",
              "41                         4.34       15308.712  \n",
              "90                         0.53        6426.674  \n",
              "199                        2.77       54225.446  \n",
              "91                         1.04       11188.744  \n",
              "145                        0.60        5034.708  \n",
              "27                         2.20       14103.452  \n",
              "141                         NaN        5338.454  \n",
              "15                         0.80        3523.984  \n",
              "157                        8.05       24765.954  \n",
              "125                        1.38       17336.469  "
            ]
          },
          "execution_count": 252,
          "metadata": {},
          "output_type": "execute_result"
        }
      ],
      "source": [
        "most_populous_df"
      ]
    },
    {
      "cell_type": "code",
      "execution_count": null,
      "metadata": {
        "colab": {
          "base_uri": "https://localhost:8080/"
        },
        "id": "cKmNuqomXe6k",
        "outputId": "bc206dc3-0dde-4652-dc1a-42158853f81a"
      },
      "outputs": [
        {
          "name": "stdout",
          "output_type": "stream",
          "text": [
            "[jovian] Detected Colab notebook...\u001b[0m\n",
            "[jovian] jovian.commit() is no longer required on Google Colab. If you ran this notebook from Jovian, \n",
            "then just save this file in Colab using Ctrl+S/Cmd+S and it will be updated on Jovian. \n",
            "Also, you can also delete this cell, it's no longer necessary.\u001b[0m\n"
          ]
        }
      ],
      "source": [
        "jovian.commit(project='pandas-practice-assignment', environment=None)"
      ]
    },
    {
      "cell_type": "markdown",
      "metadata": {
        "id": "p7BtoIPGXe6m"
      },
      "source": [
        "**Q5: Add a new column in `countries_df` to record the overall GDP per country (product of population & per capita GDP).**\n",
        "\n"
      ]
    },
    {
      "cell_type": "code",
      "execution_count": null,
      "metadata": {
        "id": "t5ZRyp0xXe6n"
      },
      "outputs": [],
      "source": [
        "countries_df['gdp'] = countries_df['population']*countries_df['gdp_per_capita']"
      ]
    },
    {
      "cell_type": "code",
      "execution_count": null,
      "metadata": {
        "colab": {
          "base_uri": "https://localhost:8080/",
          "height": 423
        },
        "id": "fkiDrnCLXe6p",
        "outputId": "34423682-4749-4af9-8435-e6f5db61668f"
      },
      "outputs": [
        {
          "data": {
            "text/html": [
              "\n",
              "  <div id=\"df-826018e4-a3b8-4ba5-9c9b-d56163126f88\">\n",
              "    <div class=\"colab-df-container\">\n",
              "      <div>\n",
              "<style scoped>\n",
              "    .dataframe tbody tr th:only-of-type {\n",
              "        vertical-align: middle;\n",
              "    }\n",
              "\n",
              "    .dataframe tbody tr th {\n",
              "        vertical-align: top;\n",
              "    }\n",
              "\n",
              "    .dataframe thead th {\n",
              "        text-align: right;\n",
              "    }\n",
              "</style>\n",
              "<table border=\"1\" class=\"dataframe\">\n",
              "  <thead>\n",
              "    <tr style=\"text-align: right;\">\n",
              "      <th></th>\n",
              "      <th>location</th>\n",
              "      <th>continent</th>\n",
              "      <th>population</th>\n",
              "      <th>life_expectancy</th>\n",
              "      <th>hospital_beds_per_thousand</th>\n",
              "      <th>gdp_per_capita</th>\n",
              "      <th>gdp</th>\n",
              "    </tr>\n",
              "  </thead>\n",
              "  <tbody>\n",
              "    <tr>\n",
              "      <th>0</th>\n",
              "      <td>Afghanistan</td>\n",
              "      <td>Asia</td>\n",
              "      <td>38928341.0</td>\n",
              "      <td>64.83</td>\n",
              "      <td>0.50</td>\n",
              "      <td>1803.987</td>\n",
              "      <td>7.022622e+10</td>\n",
              "    </tr>\n",
              "    <tr>\n",
              "      <th>1</th>\n",
              "      <td>Albania</td>\n",
              "      <td>Europe</td>\n",
              "      <td>2877800.0</td>\n",
              "      <td>78.57</td>\n",
              "      <td>2.89</td>\n",
              "      <td>11803.431</td>\n",
              "      <td>3.396791e+10</td>\n",
              "    </tr>\n",
              "    <tr>\n",
              "      <th>2</th>\n",
              "      <td>Algeria</td>\n",
              "      <td>Africa</td>\n",
              "      <td>43851043.0</td>\n",
              "      <td>76.88</td>\n",
              "      <td>1.90</td>\n",
              "      <td>13913.839</td>\n",
              "      <td>6.101364e+11</td>\n",
              "    </tr>\n",
              "    <tr>\n",
              "      <th>3</th>\n",
              "      <td>Andorra</td>\n",
              "      <td>Europe</td>\n",
              "      <td>77265.0</td>\n",
              "      <td>83.73</td>\n",
              "      <td>NaN</td>\n",
              "      <td>NaN</td>\n",
              "      <td>NaN</td>\n",
              "    </tr>\n",
              "    <tr>\n",
              "      <th>4</th>\n",
              "      <td>Angola</td>\n",
              "      <td>Africa</td>\n",
              "      <td>32866268.0</td>\n",
              "      <td>61.15</td>\n",
              "      <td>NaN</td>\n",
              "      <td>5819.495</td>\n",
              "      <td>1.912651e+11</td>\n",
              "    </tr>\n",
              "    <tr>\n",
              "      <th>...</th>\n",
              "      <td>...</td>\n",
              "      <td>...</td>\n",
              "      <td>...</td>\n",
              "      <td>...</td>\n",
              "      <td>...</td>\n",
              "      <td>...</td>\n",
              "      <td>...</td>\n",
              "    </tr>\n",
              "    <tr>\n",
              "      <th>205</th>\n",
              "      <td>Vietnam</td>\n",
              "      <td>Asia</td>\n",
              "      <td>97338583.0</td>\n",
              "      <td>75.40</td>\n",
              "      <td>2.60</td>\n",
              "      <td>6171.884</td>\n",
              "      <td>6.007624e+11</td>\n",
              "    </tr>\n",
              "    <tr>\n",
              "      <th>206</th>\n",
              "      <td>Western Sahara</td>\n",
              "      <td>Africa</td>\n",
              "      <td>597330.0</td>\n",
              "      <td>70.26</td>\n",
              "      <td>NaN</td>\n",
              "      <td>NaN</td>\n",
              "      <td>NaN</td>\n",
              "    </tr>\n",
              "    <tr>\n",
              "      <th>207</th>\n",
              "      <td>Yemen</td>\n",
              "      <td>Asia</td>\n",
              "      <td>29825968.0</td>\n",
              "      <td>66.12</td>\n",
              "      <td>0.70</td>\n",
              "      <td>1479.147</td>\n",
              "      <td>4.411699e+10</td>\n",
              "    </tr>\n",
              "    <tr>\n",
              "      <th>208</th>\n",
              "      <td>Zambia</td>\n",
              "      <td>Africa</td>\n",
              "      <td>18383956.0</td>\n",
              "      <td>63.89</td>\n",
              "      <td>2.00</td>\n",
              "      <td>3689.251</td>\n",
              "      <td>6.782303e+10</td>\n",
              "    </tr>\n",
              "    <tr>\n",
              "      <th>209</th>\n",
              "      <td>Zimbabwe</td>\n",
              "      <td>Africa</td>\n",
              "      <td>14862927.0</td>\n",
              "      <td>61.49</td>\n",
              "      <td>1.70</td>\n",
              "      <td>1899.775</td>\n",
              "      <td>2.823622e+10</td>\n",
              "    </tr>\n",
              "  </tbody>\n",
              "</table>\n",
              "<p>210 rows × 7 columns</p>\n",
              "</div>\n",
              "      <button class=\"colab-df-convert\" onclick=\"convertToInteractive('df-826018e4-a3b8-4ba5-9c9b-d56163126f88')\"\n",
              "              title=\"Convert this dataframe to an interactive table.\"\n",
              "              style=\"display:none;\">\n",
              "        \n",
              "  <svg xmlns=\"http://www.w3.org/2000/svg\" height=\"24px\"viewBox=\"0 0 24 24\"\n",
              "       width=\"24px\">\n",
              "    <path d=\"M0 0h24v24H0V0z\" fill=\"none\"/>\n",
              "    <path d=\"M18.56 5.44l.94 2.06.94-2.06 2.06-.94-2.06-.94-.94-2.06-.94 2.06-2.06.94zm-11 1L8.5 8.5l.94-2.06 2.06-.94-2.06-.94L8.5 2.5l-.94 2.06-2.06.94zm10 10l.94 2.06.94-2.06 2.06-.94-2.06-.94-.94-2.06-.94 2.06-2.06.94z\"/><path d=\"M17.41 7.96l-1.37-1.37c-.4-.4-.92-.59-1.43-.59-.52 0-1.04.2-1.43.59L10.3 9.45l-7.72 7.72c-.78.78-.78 2.05 0 2.83L4 21.41c.39.39.9.59 1.41.59.51 0 1.02-.2 1.41-.59l7.78-7.78 2.81-2.81c.8-.78.8-2.07 0-2.86zM5.41 20L4 18.59l7.72-7.72 1.47 1.35L5.41 20z\"/>\n",
              "  </svg>\n",
              "      </button>\n",
              "      \n",
              "  <style>\n",
              "    .colab-df-container {\n",
              "      display:flex;\n",
              "      flex-wrap:wrap;\n",
              "      gap: 12px;\n",
              "    }\n",
              "\n",
              "    .colab-df-convert {\n",
              "      background-color: #E8F0FE;\n",
              "      border: none;\n",
              "      border-radius: 50%;\n",
              "      cursor: pointer;\n",
              "      display: none;\n",
              "      fill: #1967D2;\n",
              "      height: 32px;\n",
              "      padding: 0 0 0 0;\n",
              "      width: 32px;\n",
              "    }\n",
              "\n",
              "    .colab-df-convert:hover {\n",
              "      background-color: #E2EBFA;\n",
              "      box-shadow: 0px 1px 2px rgba(60, 64, 67, 0.3), 0px 1px 3px 1px rgba(60, 64, 67, 0.15);\n",
              "      fill: #174EA6;\n",
              "    }\n",
              "\n",
              "    [theme=dark] .colab-df-convert {\n",
              "      background-color: #3B4455;\n",
              "      fill: #D2E3FC;\n",
              "    }\n",
              "\n",
              "    [theme=dark] .colab-df-convert:hover {\n",
              "      background-color: #434B5C;\n",
              "      box-shadow: 0px 1px 3px 1px rgba(0, 0, 0, 0.15);\n",
              "      filter: drop-shadow(0px 1px 2px rgba(0, 0, 0, 0.3));\n",
              "      fill: #FFFFFF;\n",
              "    }\n",
              "  </style>\n",
              "\n",
              "      <script>\n",
              "        const buttonEl =\n",
              "          document.querySelector('#df-826018e4-a3b8-4ba5-9c9b-d56163126f88 button.colab-df-convert');\n",
              "        buttonEl.style.display =\n",
              "          google.colab.kernel.accessAllowed ? 'block' : 'none';\n",
              "\n",
              "        async function convertToInteractive(key) {\n",
              "          const element = document.querySelector('#df-826018e4-a3b8-4ba5-9c9b-d56163126f88');\n",
              "          const dataTable =\n",
              "            await google.colab.kernel.invokeFunction('convertToInteractive',\n",
              "                                                     [key], {});\n",
              "          if (!dataTable) return;\n",
              "\n",
              "          const docLinkHtml = 'Like what you see? Visit the ' +\n",
              "            '<a target=\"_blank\" href=https://colab.research.google.com/notebooks/data_table.ipynb>data table notebook</a>'\n",
              "            + ' to learn more about interactive tables.';\n",
              "          element.innerHTML = '';\n",
              "          dataTable['output_type'] = 'display_data';\n",
              "          await google.colab.output.renderOutput(dataTable, element);\n",
              "          const docLink = document.createElement('div');\n",
              "          docLink.innerHTML = docLinkHtml;\n",
              "          element.appendChild(docLink);\n",
              "        }\n",
              "      </script>\n",
              "    </div>\n",
              "  </div>\n",
              "  "
            ],
            "text/plain": [
              "           location continent  population  life_expectancy  \\\n",
              "0       Afghanistan      Asia  38928341.0            64.83   \n",
              "1           Albania    Europe   2877800.0            78.57   \n",
              "2           Algeria    Africa  43851043.0            76.88   \n",
              "3           Andorra    Europe     77265.0            83.73   \n",
              "4            Angola    Africa  32866268.0            61.15   \n",
              "..              ...       ...         ...              ...   \n",
              "205         Vietnam      Asia  97338583.0            75.40   \n",
              "206  Western Sahara    Africa    597330.0            70.26   \n",
              "207           Yemen      Asia  29825968.0            66.12   \n",
              "208          Zambia    Africa  18383956.0            63.89   \n",
              "209        Zimbabwe    Africa  14862927.0            61.49   \n",
              "\n",
              "     hospital_beds_per_thousand  gdp_per_capita           gdp  \n",
              "0                          0.50        1803.987  7.022622e+10  \n",
              "1                          2.89       11803.431  3.396791e+10  \n",
              "2                          1.90       13913.839  6.101364e+11  \n",
              "3                           NaN             NaN           NaN  \n",
              "4                           NaN        5819.495  1.912651e+11  \n",
              "..                          ...             ...           ...  \n",
              "205                        2.60        6171.884  6.007624e+11  \n",
              "206                         NaN             NaN           NaN  \n",
              "207                        0.70        1479.147  4.411699e+10  \n",
              "208                        2.00        3689.251  6.782303e+10  \n",
              "209                        1.70        1899.775  2.823622e+10  \n",
              "\n",
              "[210 rows x 7 columns]"
            ]
          },
          "execution_count": 255,
          "metadata": {},
          "output_type": "execute_result"
        }
      ],
      "source": [
        "countries_df"
      ]
    },
    {
      "cell_type": "code",
      "execution_count": null,
      "metadata": {
        "colab": {
          "base_uri": "https://localhost:8080/"
        },
        "id": "3XmOddS-Xe6r",
        "outputId": "4eb761ac-7c2d-439c-b690-d0d04750ff51"
      },
      "outputs": [
        {
          "name": "stdout",
          "output_type": "stream",
          "text": [
            "[jovian] Detected Colab notebook...\u001b[0m\n",
            "[jovian] jovian.commit() is no longer required on Google Colab. If you ran this notebook from Jovian, \n",
            "then just save this file in Colab using Ctrl+S/Cmd+S and it will be updated on Jovian. \n",
            "Also, you can also delete this cell, it's no longer necessary.\u001b[0m\n"
          ]
        }
      ],
      "source": [
        "jovian.commit(project='pandas-practice-assignment', environment=None)"
      ]
    },
    {
      "cell_type": "markdown",
      "metadata": {
        "id": "k2WPCx85Xe6t"
      },
      "source": [
        "**Q: (Optional) Create a dataframe containing 10 countries with the lowest GDP per capita, among the counties with population greater than 100 million.**"
      ]
    },
    {
      "cell_type": "code",
      "execution_count": null,
      "metadata": {
        "id": "mNanB1CfXe6u"
      },
      "outputs": [],
      "source": [
        "lowest_gdp = countries_df.sort_values(by=['gdp_per_capita']).head(10)"
      ]
    },
    {
      "cell_type": "code",
      "execution_count": null,
      "metadata": {
        "colab": {
          "base_uri": "https://localhost:8080/",
          "height": 363
        },
        "id": "hYxzUlMlXe6v",
        "outputId": "952b2a9b-12a9-4d4a-bfb7-5687eb5fbbfd"
      },
      "outputs": [
        {
          "data": {
            "text/html": [
              "\n",
              "  <div id=\"df-186a8793-cab3-4ccb-b6fc-eda9c7708e46\">\n",
              "    <div class=\"colab-df-container\">\n",
              "      <div>\n",
              "<style scoped>\n",
              "    .dataframe tbody tr th:only-of-type {\n",
              "        vertical-align: middle;\n",
              "    }\n",
              "\n",
              "    .dataframe tbody tr th {\n",
              "        vertical-align: top;\n",
              "    }\n",
              "\n",
              "    .dataframe thead th {\n",
              "        text-align: right;\n",
              "    }\n",
              "</style>\n",
              "<table border=\"1\" class=\"dataframe\">\n",
              "  <thead>\n",
              "    <tr style=\"text-align: right;\">\n",
              "      <th></th>\n",
              "      <th>location</th>\n",
              "      <th>continent</th>\n",
              "      <th>population</th>\n",
              "      <th>life_expectancy</th>\n",
              "      <th>hospital_beds_per_thousand</th>\n",
              "      <th>gdp_per_capita</th>\n",
              "      <th>gdp</th>\n",
              "    </tr>\n",
              "  </thead>\n",
              "  <tbody>\n",
              "    <tr>\n",
              "      <th>38</th>\n",
              "      <td>Central African Republic</td>\n",
              "      <td>Africa</td>\n",
              "      <td>4829764.0</td>\n",
              "      <td>53.28</td>\n",
              "      <td>1.0</td>\n",
              "      <td>661.240</td>\n",
              "      <td>3.193633e+09</td>\n",
              "    </tr>\n",
              "    <tr>\n",
              "      <th>32</th>\n",
              "      <td>Burundi</td>\n",
              "      <td>Africa</td>\n",
              "      <td>11890781.0</td>\n",
              "      <td>61.58</td>\n",
              "      <td>0.8</td>\n",
              "      <td>702.225</td>\n",
              "      <td>8.350004e+09</td>\n",
              "    </tr>\n",
              "    <tr>\n",
              "      <th>111</th>\n",
              "      <td>Liberia</td>\n",
              "      <td>Africa</td>\n",
              "      <td>5057677.0</td>\n",
              "      <td>64.10</td>\n",
              "      <td>0.8</td>\n",
              "      <td>752.788</td>\n",
              "      <td>3.807359e+09</td>\n",
              "    </tr>\n",
              "    <tr>\n",
              "      <th>52</th>\n",
              "      <td>Democratic Republic of Congo</td>\n",
              "      <td>Africa</td>\n",
              "      <td>89561404.0</td>\n",
              "      <td>60.68</td>\n",
              "      <td>NaN</td>\n",
              "      <td>808.133</td>\n",
              "      <td>7.237753e+10</td>\n",
              "    </tr>\n",
              "    <tr>\n",
              "      <th>140</th>\n",
              "      <td>Niger</td>\n",
              "      <td>Africa</td>\n",
              "      <td>24206636.0</td>\n",
              "      <td>62.42</td>\n",
              "      <td>0.3</td>\n",
              "      <td>926.000</td>\n",
              "      <td>2.241534e+10</td>\n",
              "    </tr>\n",
              "    <tr>\n",
              "      <th>118</th>\n",
              "      <td>Malawi</td>\n",
              "      <td>Africa</td>\n",
              "      <td>19129955.0</td>\n",
              "      <td>64.26</td>\n",
              "      <td>1.3</td>\n",
              "      <td>1095.042</td>\n",
              "      <td>2.094810e+10</td>\n",
              "    </tr>\n",
              "    <tr>\n",
              "      <th>132</th>\n",
              "      <td>Mozambique</td>\n",
              "      <td>Africa</td>\n",
              "      <td>31255435.0</td>\n",
              "      <td>60.85</td>\n",
              "      <td>0.7</td>\n",
              "      <td>1136.103</td>\n",
              "      <td>3.550939e+10</td>\n",
              "    </tr>\n",
              "    <tr>\n",
              "      <th>168</th>\n",
              "      <td>Sierra Leone</td>\n",
              "      <td>Africa</td>\n",
              "      <td>7976985.0</td>\n",
              "      <td>54.70</td>\n",
              "      <td>NaN</td>\n",
              "      <td>1390.300</td>\n",
              "      <td>1.109040e+10</td>\n",
              "    </tr>\n",
              "    <tr>\n",
              "      <th>43</th>\n",
              "      <td>Comoros</td>\n",
              "      <td>Africa</td>\n",
              "      <td>869595.0</td>\n",
              "      <td>64.32</td>\n",
              "      <td>2.2</td>\n",
              "      <td>1413.890</td>\n",
              "      <td>1.229512e+09</td>\n",
              "    </tr>\n",
              "    <tr>\n",
              "      <th>117</th>\n",
              "      <td>Madagascar</td>\n",
              "      <td>Africa</td>\n",
              "      <td>27691019.0</td>\n",
              "      <td>67.04</td>\n",
              "      <td>0.2</td>\n",
              "      <td>1416.440</td>\n",
              "      <td>3.922267e+10</td>\n",
              "    </tr>\n",
              "  </tbody>\n",
              "</table>\n",
              "</div>\n",
              "      <button class=\"colab-df-convert\" onclick=\"convertToInteractive('df-186a8793-cab3-4ccb-b6fc-eda9c7708e46')\"\n",
              "              title=\"Convert this dataframe to an interactive table.\"\n",
              "              style=\"display:none;\">\n",
              "        \n",
              "  <svg xmlns=\"http://www.w3.org/2000/svg\" height=\"24px\"viewBox=\"0 0 24 24\"\n",
              "       width=\"24px\">\n",
              "    <path d=\"M0 0h24v24H0V0z\" fill=\"none\"/>\n",
              "    <path d=\"M18.56 5.44l.94 2.06.94-2.06 2.06-.94-2.06-.94-.94-2.06-.94 2.06-2.06.94zm-11 1L8.5 8.5l.94-2.06 2.06-.94-2.06-.94L8.5 2.5l-.94 2.06-2.06.94zm10 10l.94 2.06.94-2.06 2.06-.94-2.06-.94-.94-2.06-.94 2.06-2.06.94z\"/><path d=\"M17.41 7.96l-1.37-1.37c-.4-.4-.92-.59-1.43-.59-.52 0-1.04.2-1.43.59L10.3 9.45l-7.72 7.72c-.78.78-.78 2.05 0 2.83L4 21.41c.39.39.9.59 1.41.59.51 0 1.02-.2 1.41-.59l7.78-7.78 2.81-2.81c.8-.78.8-2.07 0-2.86zM5.41 20L4 18.59l7.72-7.72 1.47 1.35L5.41 20z\"/>\n",
              "  </svg>\n",
              "      </button>\n",
              "      \n",
              "  <style>\n",
              "    .colab-df-container {\n",
              "      display:flex;\n",
              "      flex-wrap:wrap;\n",
              "      gap: 12px;\n",
              "    }\n",
              "\n",
              "    .colab-df-convert {\n",
              "      background-color: #E8F0FE;\n",
              "      border: none;\n",
              "      border-radius: 50%;\n",
              "      cursor: pointer;\n",
              "      display: none;\n",
              "      fill: #1967D2;\n",
              "      height: 32px;\n",
              "      padding: 0 0 0 0;\n",
              "      width: 32px;\n",
              "    }\n",
              "\n",
              "    .colab-df-convert:hover {\n",
              "      background-color: #E2EBFA;\n",
              "      box-shadow: 0px 1px 2px rgba(60, 64, 67, 0.3), 0px 1px 3px 1px rgba(60, 64, 67, 0.15);\n",
              "      fill: #174EA6;\n",
              "    }\n",
              "\n",
              "    [theme=dark] .colab-df-convert {\n",
              "      background-color: #3B4455;\n",
              "      fill: #D2E3FC;\n",
              "    }\n",
              "\n",
              "    [theme=dark] .colab-df-convert:hover {\n",
              "      background-color: #434B5C;\n",
              "      box-shadow: 0px 1px 3px 1px rgba(0, 0, 0, 0.15);\n",
              "      filter: drop-shadow(0px 1px 2px rgba(0, 0, 0, 0.3));\n",
              "      fill: #FFFFFF;\n",
              "    }\n",
              "  </style>\n",
              "\n",
              "      <script>\n",
              "        const buttonEl =\n",
              "          document.querySelector('#df-186a8793-cab3-4ccb-b6fc-eda9c7708e46 button.colab-df-convert');\n",
              "        buttonEl.style.display =\n",
              "          google.colab.kernel.accessAllowed ? 'block' : 'none';\n",
              "\n",
              "        async function convertToInteractive(key) {\n",
              "          const element = document.querySelector('#df-186a8793-cab3-4ccb-b6fc-eda9c7708e46');\n",
              "          const dataTable =\n",
              "            await google.colab.kernel.invokeFunction('convertToInteractive',\n",
              "                                                     [key], {});\n",
              "          if (!dataTable) return;\n",
              "\n",
              "          const docLinkHtml = 'Like what you see? Visit the ' +\n",
              "            '<a target=\"_blank\" href=https://colab.research.google.com/notebooks/data_table.ipynb>data table notebook</a>'\n",
              "            + ' to learn more about interactive tables.';\n",
              "          element.innerHTML = '';\n",
              "          dataTable['output_type'] = 'display_data';\n",
              "          await google.colab.output.renderOutput(dataTable, element);\n",
              "          const docLink = document.createElement('div');\n",
              "          docLink.innerHTML = docLinkHtml;\n",
              "          element.appendChild(docLink);\n",
              "        }\n",
              "      </script>\n",
              "    </div>\n",
              "  </div>\n",
              "  "
            ],
            "text/plain": [
              "                         location continent  population  life_expectancy  \\\n",
              "38       Central African Republic    Africa   4829764.0            53.28   \n",
              "32                        Burundi    Africa  11890781.0            61.58   \n",
              "111                       Liberia    Africa   5057677.0            64.10   \n",
              "52   Democratic Republic of Congo    Africa  89561404.0            60.68   \n",
              "140                         Niger    Africa  24206636.0            62.42   \n",
              "118                        Malawi    Africa  19129955.0            64.26   \n",
              "132                    Mozambique    Africa  31255435.0            60.85   \n",
              "168                  Sierra Leone    Africa   7976985.0            54.70   \n",
              "43                        Comoros    Africa    869595.0            64.32   \n",
              "117                    Madagascar    Africa  27691019.0            67.04   \n",
              "\n",
              "     hospital_beds_per_thousand  gdp_per_capita           gdp  \n",
              "38                          1.0         661.240  3.193633e+09  \n",
              "32                          0.8         702.225  8.350004e+09  \n",
              "111                         0.8         752.788  3.807359e+09  \n",
              "52                          NaN         808.133  7.237753e+10  \n",
              "140                         0.3         926.000  2.241534e+10  \n",
              "118                         1.3        1095.042  2.094810e+10  \n",
              "132                         0.7        1136.103  3.550939e+10  \n",
              "168                         NaN        1390.300  1.109040e+10  \n",
              "43                          2.2        1413.890  1.229512e+09  \n",
              "117                         0.2        1416.440  3.922267e+10  "
            ]
          },
          "execution_count": 258,
          "metadata": {},
          "output_type": "execute_result"
        }
      ],
      "source": [
        "lowest_gdp"
      ]
    },
    {
      "cell_type": "code",
      "execution_count": null,
      "metadata": {
        "colab": {
          "base_uri": "https://localhost:8080/"
        },
        "id": "XvD9u-ShXe6w",
        "outputId": "b9cb2a12-3251-4162-99e4-6f14172f2bba"
      },
      "outputs": [
        {
          "name": "stdout",
          "output_type": "stream",
          "text": [
            "[jovian] Detected Colab notebook...\u001b[0m\n",
            "[jovian] jovian.commit() is no longer required on Google Colab. If you ran this notebook from Jovian, \n",
            "then just save this file in Colab using Ctrl+S/Cmd+S and it will be updated on Jovian. \n",
            "Also, you can also delete this cell, it's no longer necessary.\u001b[0m\n"
          ]
        }
      ],
      "source": [
        "jovian.commit(project='pandas-practice-assignment', environment=None)"
      ]
    },
    {
      "cell_type": "markdown",
      "metadata": {
        "id": "wDW_yA7bXe6y"
      },
      "source": [
        "**Q6: Create a data frame that counts the number countries in each continent?**\n",
        "\n",
        "*Hint: Use `groupby`, select the `location` column and aggregate using `count`.*"
      ]
    },
    {
      "cell_type": "code",
      "execution_count": null,
      "metadata": {
        "id": "zROTC2lIXe6z"
      },
      "outputs": [],
      "source": [
        "country_counts_df = countries_df.groupby('continent')['location'].count()"
      ]
    },
    {
      "cell_type": "code",
      "execution_count": null,
      "metadata": {
        "colab": {
          "base_uri": "https://localhost:8080/"
        },
        "id": "IxsP0icAXe62",
        "outputId": "3cf9f248-df7b-41e5-c981-295ea75e7ccc"
      },
      "outputs": [
        {
          "data": {
            "text/plain": [
              "continent\n",
              "Africa           55\n",
              "Asia             47\n",
              "Europe           51\n",
              "North America    36\n",
              "Oceania           8\n",
              "South America    13\n",
              "Name: location, dtype: int64"
            ]
          },
          "execution_count": 261,
          "metadata": {},
          "output_type": "execute_result"
        }
      ],
      "source": [
        "country_counts_df"
      ]
    },
    {
      "cell_type": "code",
      "execution_count": null,
      "metadata": {
        "colab": {
          "base_uri": "https://localhost:8080/"
        },
        "id": "DU0-giztXe64",
        "outputId": "d0b3dd9d-0210-4bc4-a501-45ada99a0af5"
      },
      "outputs": [
        {
          "name": "stdout",
          "output_type": "stream",
          "text": [
            "[jovian] Detected Colab notebook...\u001b[0m\n",
            "[jovian] jovian.commit() is no longer required on Google Colab. If you ran this notebook from Jovian, \n",
            "then just save this file in Colab using Ctrl+S/Cmd+S and it will be updated on Jovian. \n",
            "Also, you can also delete this cell, it's no longer necessary.\u001b[0m\n"
          ]
        }
      ],
      "source": [
        "jovian.commit(project='pandas-practice-assignment', environment=None)"
      ]
    },
    {
      "cell_type": "markdown",
      "metadata": {
        "id": "5DwaZKJ0Xe66"
      },
      "source": [
        "**Q7: Create a data frame showing the total population of each continent.**\n",
        "\n",
        "*Hint: Use `groupby`, select the population column and aggregate using `sum`.*"
      ]
    },
    {
      "cell_type": "code",
      "execution_count": null,
      "metadata": {
        "id": "JiD95qDQXe67"
      },
      "outputs": [],
      "source": [
        "continent_populations_df = countries_df.groupby('continent')['population'].sum().reset_index()\n",
        "continent_populations_df = continent_populations_df.set_index('continent')"
      ]
    },
    {
      "cell_type": "code",
      "execution_count": null,
      "metadata": {
        "colab": {
          "base_uri": "https://localhost:8080/",
          "height": 269
        },
        "id": "5YEyx-eNXe68",
        "outputId": "1f47aee3-3f73-4ef8-b814-56199e8a8f7b"
      },
      "outputs": [
        {
          "data": {
            "text/html": [
              "\n",
              "  <div id=\"df-3cb0864c-3790-4627-a4c7-2dc810aed73b\">\n",
              "    <div class=\"colab-df-container\">\n",
              "      <div>\n",
              "<style scoped>\n",
              "    .dataframe tbody tr th:only-of-type {\n",
              "        vertical-align: middle;\n",
              "    }\n",
              "\n",
              "    .dataframe tbody tr th {\n",
              "        vertical-align: top;\n",
              "    }\n",
              "\n",
              "    .dataframe thead th {\n",
              "        text-align: right;\n",
              "    }\n",
              "</style>\n",
              "<table border=\"1\" class=\"dataframe\">\n",
              "  <thead>\n",
              "    <tr style=\"text-align: right;\">\n",
              "      <th></th>\n",
              "      <th>population</th>\n",
              "    </tr>\n",
              "    <tr>\n",
              "      <th>continent</th>\n",
              "      <th></th>\n",
              "    </tr>\n",
              "  </thead>\n",
              "  <tbody>\n",
              "    <tr>\n",
              "      <th>Africa</th>\n",
              "      <td>1.339424e+09</td>\n",
              "    </tr>\n",
              "    <tr>\n",
              "      <th>Asia</th>\n",
              "      <td>4.607388e+09</td>\n",
              "    </tr>\n",
              "    <tr>\n",
              "      <th>Europe</th>\n",
              "      <td>7.485062e+08</td>\n",
              "    </tr>\n",
              "    <tr>\n",
              "      <th>North America</th>\n",
              "      <td>5.912425e+08</td>\n",
              "    </tr>\n",
              "    <tr>\n",
              "      <th>Oceania</th>\n",
              "      <td>4.095832e+07</td>\n",
              "    </tr>\n",
              "    <tr>\n",
              "      <th>South America</th>\n",
              "      <td>4.304611e+08</td>\n",
              "    </tr>\n",
              "  </tbody>\n",
              "</table>\n",
              "</div>\n",
              "      <button class=\"colab-df-convert\" onclick=\"convertToInteractive('df-3cb0864c-3790-4627-a4c7-2dc810aed73b')\"\n",
              "              title=\"Convert this dataframe to an interactive table.\"\n",
              "              style=\"display:none;\">\n",
              "        \n",
              "  <svg xmlns=\"http://www.w3.org/2000/svg\" height=\"24px\"viewBox=\"0 0 24 24\"\n",
              "       width=\"24px\">\n",
              "    <path d=\"M0 0h24v24H0V0z\" fill=\"none\"/>\n",
              "    <path d=\"M18.56 5.44l.94 2.06.94-2.06 2.06-.94-2.06-.94-.94-2.06-.94 2.06-2.06.94zm-11 1L8.5 8.5l.94-2.06 2.06-.94-2.06-.94L8.5 2.5l-.94 2.06-2.06.94zm10 10l.94 2.06.94-2.06 2.06-.94-2.06-.94-.94-2.06-.94 2.06-2.06.94z\"/><path d=\"M17.41 7.96l-1.37-1.37c-.4-.4-.92-.59-1.43-.59-.52 0-1.04.2-1.43.59L10.3 9.45l-7.72 7.72c-.78.78-.78 2.05 0 2.83L4 21.41c.39.39.9.59 1.41.59.51 0 1.02-.2 1.41-.59l7.78-7.78 2.81-2.81c.8-.78.8-2.07 0-2.86zM5.41 20L4 18.59l7.72-7.72 1.47 1.35L5.41 20z\"/>\n",
              "  </svg>\n",
              "      </button>\n",
              "      \n",
              "  <style>\n",
              "    .colab-df-container {\n",
              "      display:flex;\n",
              "      flex-wrap:wrap;\n",
              "      gap: 12px;\n",
              "    }\n",
              "\n",
              "    .colab-df-convert {\n",
              "      background-color: #E8F0FE;\n",
              "      border: none;\n",
              "      border-radius: 50%;\n",
              "      cursor: pointer;\n",
              "      display: none;\n",
              "      fill: #1967D2;\n",
              "      height: 32px;\n",
              "      padding: 0 0 0 0;\n",
              "      width: 32px;\n",
              "    }\n",
              "\n",
              "    .colab-df-convert:hover {\n",
              "      background-color: #E2EBFA;\n",
              "      box-shadow: 0px 1px 2px rgba(60, 64, 67, 0.3), 0px 1px 3px 1px rgba(60, 64, 67, 0.15);\n",
              "      fill: #174EA6;\n",
              "    }\n",
              "\n",
              "    [theme=dark] .colab-df-convert {\n",
              "      background-color: #3B4455;\n",
              "      fill: #D2E3FC;\n",
              "    }\n",
              "\n",
              "    [theme=dark] .colab-df-convert:hover {\n",
              "      background-color: #434B5C;\n",
              "      box-shadow: 0px 1px 3px 1px rgba(0, 0, 0, 0.15);\n",
              "      filter: drop-shadow(0px 1px 2px rgba(0, 0, 0, 0.3));\n",
              "      fill: #FFFFFF;\n",
              "    }\n",
              "  </style>\n",
              "\n",
              "      <script>\n",
              "        const buttonEl =\n",
              "          document.querySelector('#df-3cb0864c-3790-4627-a4c7-2dc810aed73b button.colab-df-convert');\n",
              "        buttonEl.style.display =\n",
              "          google.colab.kernel.accessAllowed ? 'block' : 'none';\n",
              "\n",
              "        async function convertToInteractive(key) {\n",
              "          const element = document.querySelector('#df-3cb0864c-3790-4627-a4c7-2dc810aed73b');\n",
              "          const dataTable =\n",
              "            await google.colab.kernel.invokeFunction('convertToInteractive',\n",
              "                                                     [key], {});\n",
              "          if (!dataTable) return;\n",
              "\n",
              "          const docLinkHtml = 'Like what you see? Visit the ' +\n",
              "            '<a target=\"_blank\" href=https://colab.research.google.com/notebooks/data_table.ipynb>data table notebook</a>'\n",
              "            + ' to learn more about interactive tables.';\n",
              "          element.innerHTML = '';\n",
              "          dataTable['output_type'] = 'display_data';\n",
              "          await google.colab.output.renderOutput(dataTable, element);\n",
              "          const docLink = document.createElement('div');\n",
              "          docLink.innerHTML = docLinkHtml;\n",
              "          element.appendChild(docLink);\n",
              "        }\n",
              "      </script>\n",
              "    </div>\n",
              "  </div>\n",
              "  "
            ],
            "text/plain": [
              "                 population\n",
              "continent                  \n",
              "Africa         1.339424e+09\n",
              "Asia           4.607388e+09\n",
              "Europe         7.485062e+08\n",
              "North America  5.912425e+08\n",
              "Oceania        4.095832e+07\n",
              "South America  4.304611e+08"
            ]
          },
          "execution_count": 297,
          "metadata": {},
          "output_type": "execute_result"
        }
      ],
      "source": [
        "continent_populations_df"
      ]
    },
    {
      "cell_type": "code",
      "execution_count": null,
      "metadata": {
        "colab": {
          "base_uri": "https://localhost:8080/"
        },
        "id": "9rvbgOVwXe7B",
        "outputId": "654e4845-4c12-41f0-dc07-546eaa2d9f7e"
      },
      "outputs": [
        {
          "name": "stdout",
          "output_type": "stream",
          "text": [
            "[jovian] Detected Colab notebook...\u001b[0m\n",
            "[jovian] jovian.commit() is no longer required on Google Colab. If you ran this notebook from Jovian, \n",
            "then just save this file in Colab using Ctrl+S/Cmd+S and it will be updated on Jovian. \n",
            "Also, you can also delete this cell, it's no longer necessary.\u001b[0m\n"
          ]
        }
      ],
      "source": [
        "jovian.commit(project='pandas-practice-assignment', environment=None)"
      ]
    },
    {
      "cell_type": "markdown",
      "metadata": {
        "id": "xxmUhNa7Xe7C"
      },
      "source": [
        "Let's download another CSV file containing overall Covid-19 stats for various countires, and read the data into another Pandas data frame."
      ]
    },
    {
      "cell_type": "code",
      "execution_count": null,
      "metadata": {
        "colab": {
          "base_uri": "https://localhost:8080/"
        },
        "id": "3V3oky59Xe7E",
        "outputId": "6afea24b-8300-4e4f-f9ae-fb4e3eec8014"
      },
      "outputs": [
        {
          "data": {
            "text/plain": [
              "('covid-countries-data.csv', <http.client.HTTPMessage at 0x7f6b9ef50160>)"
            ]
          },
          "execution_count": 266,
          "metadata": {},
          "output_type": "execute_result"
        }
      ],
      "source": [
        "urlretrieve('https://gist.githubusercontent.com/aakashns/b2a968a6cfd9fbbb0ff3d6bd0f26262b/raw/b115ed1dfa17f10fc88bf966236cd4d9032f1df8/covid-countries-data.csv',\n",
        "            'covid-countries-data.csv')"
      ]
    },
    {
      "cell_type": "code",
      "execution_count": null,
      "metadata": {
        "id": "oB3d-MAZXe7H"
      },
      "outputs": [],
      "source": [
        "covid_data_df = pd.read_csv('covid-countries-data.csv')"
      ]
    },
    {
      "cell_type": "code",
      "execution_count": null,
      "metadata": {
        "colab": {
          "base_uri": "https://localhost:8080/",
          "height": 423
        },
        "id": "FwSicfNUXe7J",
        "outputId": "1f3f982f-1f8c-4159-9821-7d2d970dfb8e",
        "scrolled": true
      },
      "outputs": [
        {
          "data": {
            "text/html": [
              "\n",
              "  <div id=\"df-d4bd9501-e535-4969-acbb-86cbe4a9e8bf\">\n",
              "    <div class=\"colab-df-container\">\n",
              "      <div>\n",
              "<style scoped>\n",
              "    .dataframe tbody tr th:only-of-type {\n",
              "        vertical-align: middle;\n",
              "    }\n",
              "\n",
              "    .dataframe tbody tr th {\n",
              "        vertical-align: top;\n",
              "    }\n",
              "\n",
              "    .dataframe thead th {\n",
              "        text-align: right;\n",
              "    }\n",
              "</style>\n",
              "<table border=\"1\" class=\"dataframe\">\n",
              "  <thead>\n",
              "    <tr style=\"text-align: right;\">\n",
              "      <th></th>\n",
              "      <th>location</th>\n",
              "      <th>total_cases</th>\n",
              "      <th>total_deaths</th>\n",
              "      <th>total_tests</th>\n",
              "    </tr>\n",
              "  </thead>\n",
              "  <tbody>\n",
              "    <tr>\n",
              "      <th>0</th>\n",
              "      <td>Afghanistan</td>\n",
              "      <td>38243.0</td>\n",
              "      <td>1409.0</td>\n",
              "      <td>NaN</td>\n",
              "    </tr>\n",
              "    <tr>\n",
              "      <th>1</th>\n",
              "      <td>Albania</td>\n",
              "      <td>9728.0</td>\n",
              "      <td>296.0</td>\n",
              "      <td>NaN</td>\n",
              "    </tr>\n",
              "    <tr>\n",
              "      <th>2</th>\n",
              "      <td>Algeria</td>\n",
              "      <td>45158.0</td>\n",
              "      <td>1525.0</td>\n",
              "      <td>NaN</td>\n",
              "    </tr>\n",
              "    <tr>\n",
              "      <th>3</th>\n",
              "      <td>Andorra</td>\n",
              "      <td>1199.0</td>\n",
              "      <td>53.0</td>\n",
              "      <td>NaN</td>\n",
              "    </tr>\n",
              "    <tr>\n",
              "      <th>4</th>\n",
              "      <td>Angola</td>\n",
              "      <td>2729.0</td>\n",
              "      <td>109.0</td>\n",
              "      <td>NaN</td>\n",
              "    </tr>\n",
              "    <tr>\n",
              "      <th>...</th>\n",
              "      <td>...</td>\n",
              "      <td>...</td>\n",
              "      <td>...</td>\n",
              "      <td>...</td>\n",
              "    </tr>\n",
              "    <tr>\n",
              "      <th>207</th>\n",
              "      <td>Western Sahara</td>\n",
              "      <td>766.0</td>\n",
              "      <td>1.0</td>\n",
              "      <td>NaN</td>\n",
              "    </tr>\n",
              "    <tr>\n",
              "      <th>208</th>\n",
              "      <td>World</td>\n",
              "      <td>26059065.0</td>\n",
              "      <td>863535.0</td>\n",
              "      <td>NaN</td>\n",
              "    </tr>\n",
              "    <tr>\n",
              "      <th>209</th>\n",
              "      <td>Yemen</td>\n",
              "      <td>1976.0</td>\n",
              "      <td>571.0</td>\n",
              "      <td>NaN</td>\n",
              "    </tr>\n",
              "    <tr>\n",
              "      <th>210</th>\n",
              "      <td>Zambia</td>\n",
              "      <td>12415.0</td>\n",
              "      <td>292.0</td>\n",
              "      <td>NaN</td>\n",
              "    </tr>\n",
              "    <tr>\n",
              "      <th>211</th>\n",
              "      <td>Zimbabwe</td>\n",
              "      <td>6638.0</td>\n",
              "      <td>206.0</td>\n",
              "      <td>97272.0</td>\n",
              "    </tr>\n",
              "  </tbody>\n",
              "</table>\n",
              "<p>212 rows × 4 columns</p>\n",
              "</div>\n",
              "      <button class=\"colab-df-convert\" onclick=\"convertToInteractive('df-d4bd9501-e535-4969-acbb-86cbe4a9e8bf')\"\n",
              "              title=\"Convert this dataframe to an interactive table.\"\n",
              "              style=\"display:none;\">\n",
              "        \n",
              "  <svg xmlns=\"http://www.w3.org/2000/svg\" height=\"24px\"viewBox=\"0 0 24 24\"\n",
              "       width=\"24px\">\n",
              "    <path d=\"M0 0h24v24H0V0z\" fill=\"none\"/>\n",
              "    <path d=\"M18.56 5.44l.94 2.06.94-2.06 2.06-.94-2.06-.94-.94-2.06-.94 2.06-2.06.94zm-11 1L8.5 8.5l.94-2.06 2.06-.94-2.06-.94L8.5 2.5l-.94 2.06-2.06.94zm10 10l.94 2.06.94-2.06 2.06-.94-2.06-.94-.94-2.06-.94 2.06-2.06.94z\"/><path d=\"M17.41 7.96l-1.37-1.37c-.4-.4-.92-.59-1.43-.59-.52 0-1.04.2-1.43.59L10.3 9.45l-7.72 7.72c-.78.78-.78 2.05 0 2.83L4 21.41c.39.39.9.59 1.41.59.51 0 1.02-.2 1.41-.59l7.78-7.78 2.81-2.81c.8-.78.8-2.07 0-2.86zM5.41 20L4 18.59l7.72-7.72 1.47 1.35L5.41 20z\"/>\n",
              "  </svg>\n",
              "      </button>\n",
              "      \n",
              "  <style>\n",
              "    .colab-df-container {\n",
              "      display:flex;\n",
              "      flex-wrap:wrap;\n",
              "      gap: 12px;\n",
              "    }\n",
              "\n",
              "    .colab-df-convert {\n",
              "      background-color: #E8F0FE;\n",
              "      border: none;\n",
              "      border-radius: 50%;\n",
              "      cursor: pointer;\n",
              "      display: none;\n",
              "      fill: #1967D2;\n",
              "      height: 32px;\n",
              "      padding: 0 0 0 0;\n",
              "      width: 32px;\n",
              "    }\n",
              "\n",
              "    .colab-df-convert:hover {\n",
              "      background-color: #E2EBFA;\n",
              "      box-shadow: 0px 1px 2px rgba(60, 64, 67, 0.3), 0px 1px 3px 1px rgba(60, 64, 67, 0.15);\n",
              "      fill: #174EA6;\n",
              "    }\n",
              "\n",
              "    [theme=dark] .colab-df-convert {\n",
              "      background-color: #3B4455;\n",
              "      fill: #D2E3FC;\n",
              "    }\n",
              "\n",
              "    [theme=dark] .colab-df-convert:hover {\n",
              "      background-color: #434B5C;\n",
              "      box-shadow: 0px 1px 3px 1px rgba(0, 0, 0, 0.15);\n",
              "      filter: drop-shadow(0px 1px 2px rgba(0, 0, 0, 0.3));\n",
              "      fill: #FFFFFF;\n",
              "    }\n",
              "  </style>\n",
              "\n",
              "      <script>\n",
              "        const buttonEl =\n",
              "          document.querySelector('#df-d4bd9501-e535-4969-acbb-86cbe4a9e8bf button.colab-df-convert');\n",
              "        buttonEl.style.display =\n",
              "          google.colab.kernel.accessAllowed ? 'block' : 'none';\n",
              "\n",
              "        async function convertToInteractive(key) {\n",
              "          const element = document.querySelector('#df-d4bd9501-e535-4969-acbb-86cbe4a9e8bf');\n",
              "          const dataTable =\n",
              "            await google.colab.kernel.invokeFunction('convertToInteractive',\n",
              "                                                     [key], {});\n",
              "          if (!dataTable) return;\n",
              "\n",
              "          const docLinkHtml = 'Like what you see? Visit the ' +\n",
              "            '<a target=\"_blank\" href=https://colab.research.google.com/notebooks/data_table.ipynb>data table notebook</a>'\n",
              "            + ' to learn more about interactive tables.';\n",
              "          element.innerHTML = '';\n",
              "          dataTable['output_type'] = 'display_data';\n",
              "          await google.colab.output.renderOutput(dataTable, element);\n",
              "          const docLink = document.createElement('div');\n",
              "          docLink.innerHTML = docLinkHtml;\n",
              "          element.appendChild(docLink);\n",
              "        }\n",
              "      </script>\n",
              "    </div>\n",
              "  </div>\n",
              "  "
            ],
            "text/plain": [
              "           location  total_cases  total_deaths  total_tests\n",
              "0       Afghanistan      38243.0        1409.0          NaN\n",
              "1           Albania       9728.0         296.0          NaN\n",
              "2           Algeria      45158.0        1525.0          NaN\n",
              "3           Andorra       1199.0          53.0          NaN\n",
              "4            Angola       2729.0         109.0          NaN\n",
              "..              ...          ...           ...          ...\n",
              "207  Western Sahara        766.0           1.0          NaN\n",
              "208           World   26059065.0      863535.0          NaN\n",
              "209           Yemen       1976.0         571.0          NaN\n",
              "210          Zambia      12415.0         292.0          NaN\n",
              "211        Zimbabwe       6638.0         206.0      97272.0\n",
              "\n",
              "[212 rows x 4 columns]"
            ]
          },
          "execution_count": 268,
          "metadata": {},
          "output_type": "execute_result"
        }
      ],
      "source": [
        "covid_data_df"
      ]
    },
    {
      "cell_type": "markdown",
      "metadata": {
        "id": "-M85iopyXe7L"
      },
      "source": [
        "**Q8: Count the number of countries for which the `total_tests` data is missing.**\n",
        "\n",
        "*Hint: Use the `.isna` method.*"
      ]
    },
    {
      "cell_type": "code",
      "execution_count": null,
      "metadata": {
        "colab": {
          "base_uri": "https://localhost:8080/"
        },
        "id": "PC708B4CXe7M",
        "outputId": "37e8f822-32cb-4322-821d-66e12ee322a8"
      },
      "outputs": [
        {
          "data": {
            "text/plain": [
              "122"
            ]
          },
          "execution_count": 269,
          "metadata": {},
          "output_type": "execute_result"
        }
      ],
      "source": [
        "total_tests_missing = covid_data_df[covid_data_df['total_tests'].isna() == True]['location'].count()\n",
        "total_tests_missing"
      ]
    },
    {
      "cell_type": "code",
      "execution_count": null,
      "metadata": {
        "colab": {
          "base_uri": "https://localhost:8080/"
        },
        "id": "JlKpgAwXXe7O",
        "outputId": "2f7e508e-08d1-485c-f092-feb0d0ac64e9"
      },
      "outputs": [
        {
          "name": "stdout",
          "output_type": "stream",
          "text": [
            "The data for total tests is missing for 122 countries.\n"
          ]
        }
      ],
      "source": [
        "print(\"The data for total tests is missing for {} countries.\".format(int(total_tests_missing)))"
      ]
    },
    {
      "cell_type": "code",
      "execution_count": null,
      "metadata": {
        "colab": {
          "base_uri": "https://localhost:8080/"
        },
        "id": "LvEW443lXe7Q",
        "outputId": "ddc1ea31-812c-4674-98d0-3d47671cf0df"
      },
      "outputs": [
        {
          "name": "stdout",
          "output_type": "stream",
          "text": [
            "[jovian] Detected Colab notebook...\u001b[0m\n",
            "[jovian] jovian.commit() is no longer required on Google Colab. If you ran this notebook from Jovian, \n",
            "then just save this file in Colab using Ctrl+S/Cmd+S and it will be updated on Jovian. \n",
            "Also, you can also delete this cell, it's no longer necessary.\u001b[0m\n"
          ]
        }
      ],
      "source": [
        "jovian.commit(project='pandas-practice-assignment', environment=None)"
      ]
    },
    {
      "cell_type": "markdown",
      "metadata": {
        "id": "oHvBsbMpXe7T"
      },
      "source": [
        "Let's merge the two data frames, and compute some more metrics.\n",
        "\n",
        "**Q9: Merge `countries_df` with `covid_data_df` on the `location` column.**\n",
        "\n",
        "*Hint: Use the `.merge` method on `countries_df`."
      ]
    },
    {
      "cell_type": "code",
      "execution_count": null,
      "metadata": {
        "id": "vIDn2TpmXe7Z"
      },
      "outputs": [],
      "source": [
        "combined_df = countries_df.merge(covid_data_df,on='location')"
      ]
    },
    {
      "cell_type": "code",
      "execution_count": null,
      "metadata": {
        "colab": {
          "base_uri": "https://localhost:8080/",
          "height": 505
        },
        "id": "VzPlRJ_IXe7b",
        "outputId": "d707881a-ac81-4e30-e3c0-3770dea748dc"
      },
      "outputs": [
        {
          "data": {
            "text/html": [
              "\n",
              "  <div id=\"df-dbe2f68a-a830-42bc-9060-7858a00aee8d\">\n",
              "    <div class=\"colab-df-container\">\n",
              "      <div>\n",
              "<style scoped>\n",
              "    .dataframe tbody tr th:only-of-type {\n",
              "        vertical-align: middle;\n",
              "    }\n",
              "\n",
              "    .dataframe tbody tr th {\n",
              "        vertical-align: top;\n",
              "    }\n",
              "\n",
              "    .dataframe thead th {\n",
              "        text-align: right;\n",
              "    }\n",
              "</style>\n",
              "<table border=\"1\" class=\"dataframe\">\n",
              "  <thead>\n",
              "    <tr style=\"text-align: right;\">\n",
              "      <th></th>\n",
              "      <th>location</th>\n",
              "      <th>continent</th>\n",
              "      <th>population</th>\n",
              "      <th>life_expectancy</th>\n",
              "      <th>hospital_beds_per_thousand</th>\n",
              "      <th>gdp_per_capita</th>\n",
              "      <th>gdp</th>\n",
              "      <th>total_cases</th>\n",
              "      <th>total_deaths</th>\n",
              "      <th>total_tests</th>\n",
              "    </tr>\n",
              "  </thead>\n",
              "  <tbody>\n",
              "    <tr>\n",
              "      <th>0</th>\n",
              "      <td>Afghanistan</td>\n",
              "      <td>Asia</td>\n",
              "      <td>38928341.0</td>\n",
              "      <td>64.83</td>\n",
              "      <td>0.50</td>\n",
              "      <td>1803.987</td>\n",
              "      <td>7.022622e+10</td>\n",
              "      <td>38243.0</td>\n",
              "      <td>1409.0</td>\n",
              "      <td>NaN</td>\n",
              "    </tr>\n",
              "    <tr>\n",
              "      <th>1</th>\n",
              "      <td>Albania</td>\n",
              "      <td>Europe</td>\n",
              "      <td>2877800.0</td>\n",
              "      <td>78.57</td>\n",
              "      <td>2.89</td>\n",
              "      <td>11803.431</td>\n",
              "      <td>3.396791e+10</td>\n",
              "      <td>9728.0</td>\n",
              "      <td>296.0</td>\n",
              "      <td>NaN</td>\n",
              "    </tr>\n",
              "    <tr>\n",
              "      <th>2</th>\n",
              "      <td>Algeria</td>\n",
              "      <td>Africa</td>\n",
              "      <td>43851043.0</td>\n",
              "      <td>76.88</td>\n",
              "      <td>1.90</td>\n",
              "      <td>13913.839</td>\n",
              "      <td>6.101364e+11</td>\n",
              "      <td>45158.0</td>\n",
              "      <td>1525.0</td>\n",
              "      <td>NaN</td>\n",
              "    </tr>\n",
              "    <tr>\n",
              "      <th>3</th>\n",
              "      <td>Andorra</td>\n",
              "      <td>Europe</td>\n",
              "      <td>77265.0</td>\n",
              "      <td>83.73</td>\n",
              "      <td>NaN</td>\n",
              "      <td>NaN</td>\n",
              "      <td>NaN</td>\n",
              "      <td>1199.0</td>\n",
              "      <td>53.0</td>\n",
              "      <td>NaN</td>\n",
              "    </tr>\n",
              "    <tr>\n",
              "      <th>4</th>\n",
              "      <td>Angola</td>\n",
              "      <td>Africa</td>\n",
              "      <td>32866268.0</td>\n",
              "      <td>61.15</td>\n",
              "      <td>NaN</td>\n",
              "      <td>5819.495</td>\n",
              "      <td>1.912651e+11</td>\n",
              "      <td>2729.0</td>\n",
              "      <td>109.0</td>\n",
              "      <td>NaN</td>\n",
              "    </tr>\n",
              "    <tr>\n",
              "      <th>...</th>\n",
              "      <td>...</td>\n",
              "      <td>...</td>\n",
              "      <td>...</td>\n",
              "      <td>...</td>\n",
              "      <td>...</td>\n",
              "      <td>...</td>\n",
              "      <td>...</td>\n",
              "      <td>...</td>\n",
              "      <td>...</td>\n",
              "      <td>...</td>\n",
              "    </tr>\n",
              "    <tr>\n",
              "      <th>205</th>\n",
              "      <td>Vietnam</td>\n",
              "      <td>Asia</td>\n",
              "      <td>97338583.0</td>\n",
              "      <td>75.40</td>\n",
              "      <td>2.60</td>\n",
              "      <td>6171.884</td>\n",
              "      <td>6.007624e+11</td>\n",
              "      <td>1046.0</td>\n",
              "      <td>35.0</td>\n",
              "      <td>261004.0</td>\n",
              "    </tr>\n",
              "    <tr>\n",
              "      <th>206</th>\n",
              "      <td>Western Sahara</td>\n",
              "      <td>Africa</td>\n",
              "      <td>597330.0</td>\n",
              "      <td>70.26</td>\n",
              "      <td>NaN</td>\n",
              "      <td>NaN</td>\n",
              "      <td>NaN</td>\n",
              "      <td>766.0</td>\n",
              "      <td>1.0</td>\n",
              "      <td>NaN</td>\n",
              "    </tr>\n",
              "    <tr>\n",
              "      <th>207</th>\n",
              "      <td>Yemen</td>\n",
              "      <td>Asia</td>\n",
              "      <td>29825968.0</td>\n",
              "      <td>66.12</td>\n",
              "      <td>0.70</td>\n",
              "      <td>1479.147</td>\n",
              "      <td>4.411699e+10</td>\n",
              "      <td>1976.0</td>\n",
              "      <td>571.0</td>\n",
              "      <td>NaN</td>\n",
              "    </tr>\n",
              "    <tr>\n",
              "      <th>208</th>\n",
              "      <td>Zambia</td>\n",
              "      <td>Africa</td>\n",
              "      <td>18383956.0</td>\n",
              "      <td>63.89</td>\n",
              "      <td>2.00</td>\n",
              "      <td>3689.251</td>\n",
              "      <td>6.782303e+10</td>\n",
              "      <td>12415.0</td>\n",
              "      <td>292.0</td>\n",
              "      <td>NaN</td>\n",
              "    </tr>\n",
              "    <tr>\n",
              "      <th>209</th>\n",
              "      <td>Zimbabwe</td>\n",
              "      <td>Africa</td>\n",
              "      <td>14862927.0</td>\n",
              "      <td>61.49</td>\n",
              "      <td>1.70</td>\n",
              "      <td>1899.775</td>\n",
              "      <td>2.823622e+10</td>\n",
              "      <td>6638.0</td>\n",
              "      <td>206.0</td>\n",
              "      <td>97272.0</td>\n",
              "    </tr>\n",
              "  </tbody>\n",
              "</table>\n",
              "<p>210 rows × 10 columns</p>\n",
              "</div>\n",
              "      <button class=\"colab-df-convert\" onclick=\"convertToInteractive('df-dbe2f68a-a830-42bc-9060-7858a00aee8d')\"\n",
              "              title=\"Convert this dataframe to an interactive table.\"\n",
              "              style=\"display:none;\">\n",
              "        \n",
              "  <svg xmlns=\"http://www.w3.org/2000/svg\" height=\"24px\"viewBox=\"0 0 24 24\"\n",
              "       width=\"24px\">\n",
              "    <path d=\"M0 0h24v24H0V0z\" fill=\"none\"/>\n",
              "    <path d=\"M18.56 5.44l.94 2.06.94-2.06 2.06-.94-2.06-.94-.94-2.06-.94 2.06-2.06.94zm-11 1L8.5 8.5l.94-2.06 2.06-.94-2.06-.94L8.5 2.5l-.94 2.06-2.06.94zm10 10l.94 2.06.94-2.06 2.06-.94-2.06-.94-.94-2.06-.94 2.06-2.06.94z\"/><path d=\"M17.41 7.96l-1.37-1.37c-.4-.4-.92-.59-1.43-.59-.52 0-1.04.2-1.43.59L10.3 9.45l-7.72 7.72c-.78.78-.78 2.05 0 2.83L4 21.41c.39.39.9.59 1.41.59.51 0 1.02-.2 1.41-.59l7.78-7.78 2.81-2.81c.8-.78.8-2.07 0-2.86zM5.41 20L4 18.59l7.72-7.72 1.47 1.35L5.41 20z\"/>\n",
              "  </svg>\n",
              "      </button>\n",
              "      \n",
              "  <style>\n",
              "    .colab-df-container {\n",
              "      display:flex;\n",
              "      flex-wrap:wrap;\n",
              "      gap: 12px;\n",
              "    }\n",
              "\n",
              "    .colab-df-convert {\n",
              "      background-color: #E8F0FE;\n",
              "      border: none;\n",
              "      border-radius: 50%;\n",
              "      cursor: pointer;\n",
              "      display: none;\n",
              "      fill: #1967D2;\n",
              "      height: 32px;\n",
              "      padding: 0 0 0 0;\n",
              "      width: 32px;\n",
              "    }\n",
              "\n",
              "    .colab-df-convert:hover {\n",
              "      background-color: #E2EBFA;\n",
              "      box-shadow: 0px 1px 2px rgba(60, 64, 67, 0.3), 0px 1px 3px 1px rgba(60, 64, 67, 0.15);\n",
              "      fill: #174EA6;\n",
              "    }\n",
              "\n",
              "    [theme=dark] .colab-df-convert {\n",
              "      background-color: #3B4455;\n",
              "      fill: #D2E3FC;\n",
              "    }\n",
              "\n",
              "    [theme=dark] .colab-df-convert:hover {\n",
              "      background-color: #434B5C;\n",
              "      box-shadow: 0px 1px 3px 1px rgba(0, 0, 0, 0.15);\n",
              "      filter: drop-shadow(0px 1px 2px rgba(0, 0, 0, 0.3));\n",
              "      fill: #FFFFFF;\n",
              "    }\n",
              "  </style>\n",
              "\n",
              "      <script>\n",
              "        const buttonEl =\n",
              "          document.querySelector('#df-dbe2f68a-a830-42bc-9060-7858a00aee8d button.colab-df-convert');\n",
              "        buttonEl.style.display =\n",
              "          google.colab.kernel.accessAllowed ? 'block' : 'none';\n",
              "\n",
              "        async function convertToInteractive(key) {\n",
              "          const element = document.querySelector('#df-dbe2f68a-a830-42bc-9060-7858a00aee8d');\n",
              "          const dataTable =\n",
              "            await google.colab.kernel.invokeFunction('convertToInteractive',\n",
              "                                                     [key], {});\n",
              "          if (!dataTable) return;\n",
              "\n",
              "          const docLinkHtml = 'Like what you see? Visit the ' +\n",
              "            '<a target=\"_blank\" href=https://colab.research.google.com/notebooks/data_table.ipynb>data table notebook</a>'\n",
              "            + ' to learn more about interactive tables.';\n",
              "          element.innerHTML = '';\n",
              "          dataTable['output_type'] = 'display_data';\n",
              "          await google.colab.output.renderOutput(dataTable, element);\n",
              "          const docLink = document.createElement('div');\n",
              "          docLink.innerHTML = docLinkHtml;\n",
              "          element.appendChild(docLink);\n",
              "        }\n",
              "      </script>\n",
              "    </div>\n",
              "  </div>\n",
              "  "
            ],
            "text/plain": [
              "           location continent  population  life_expectancy  \\\n",
              "0       Afghanistan      Asia  38928341.0            64.83   \n",
              "1           Albania    Europe   2877800.0            78.57   \n",
              "2           Algeria    Africa  43851043.0            76.88   \n",
              "3           Andorra    Europe     77265.0            83.73   \n",
              "4            Angola    Africa  32866268.0            61.15   \n",
              "..              ...       ...         ...              ...   \n",
              "205         Vietnam      Asia  97338583.0            75.40   \n",
              "206  Western Sahara    Africa    597330.0            70.26   \n",
              "207           Yemen      Asia  29825968.0            66.12   \n",
              "208          Zambia    Africa  18383956.0            63.89   \n",
              "209        Zimbabwe    Africa  14862927.0            61.49   \n",
              "\n",
              "     hospital_beds_per_thousand  gdp_per_capita           gdp  total_cases  \\\n",
              "0                          0.50        1803.987  7.022622e+10      38243.0   \n",
              "1                          2.89       11803.431  3.396791e+10       9728.0   \n",
              "2                          1.90       13913.839  6.101364e+11      45158.0   \n",
              "3                           NaN             NaN           NaN       1199.0   \n",
              "4                           NaN        5819.495  1.912651e+11       2729.0   \n",
              "..                          ...             ...           ...          ...   \n",
              "205                        2.60        6171.884  6.007624e+11       1046.0   \n",
              "206                         NaN             NaN           NaN        766.0   \n",
              "207                        0.70        1479.147  4.411699e+10       1976.0   \n",
              "208                        2.00        3689.251  6.782303e+10      12415.0   \n",
              "209                        1.70        1899.775  2.823622e+10       6638.0   \n",
              "\n",
              "     total_deaths  total_tests  \n",
              "0          1409.0          NaN  \n",
              "1           296.0          NaN  \n",
              "2          1525.0          NaN  \n",
              "3            53.0          NaN  \n",
              "4           109.0          NaN  \n",
              "..            ...          ...  \n",
              "205          35.0     261004.0  \n",
              "206           1.0          NaN  \n",
              "207         571.0          NaN  \n",
              "208         292.0          NaN  \n",
              "209         206.0      97272.0  \n",
              "\n",
              "[210 rows x 10 columns]"
            ]
          },
          "execution_count": 273,
          "metadata": {},
          "output_type": "execute_result"
        }
      ],
      "source": [
        "combined_df"
      ]
    },
    {
      "cell_type": "code",
      "execution_count": null,
      "metadata": {
        "colab": {
          "base_uri": "https://localhost:8080/"
        },
        "id": "JXcExeReXe7d",
        "outputId": "e8197b9c-5fa1-4ae8-8e65-aaf4b74a3ffa"
      },
      "outputs": [
        {
          "name": "stdout",
          "output_type": "stream",
          "text": [
            "[jovian] Detected Colab notebook...\u001b[0m\n",
            "[jovian] jovian.commit() is no longer required on Google Colab. If you ran this notebook from Jovian, \n",
            "then just save this file in Colab using Ctrl+S/Cmd+S and it will be updated on Jovian. \n",
            "Also, you can also delete this cell, it's no longer necessary.\u001b[0m\n"
          ]
        }
      ],
      "source": [
        "jovian.commit(project='pandas-practice-assignment', environment=None)"
      ]
    },
    {
      "cell_type": "markdown",
      "metadata": {
        "id": "WWUSt2BGXe7f"
      },
      "source": [
        "**Q10: Add columns `tests_per_million`, `cases_per_million` and `deaths_per_million` into `combined_df`.**"
      ]
    },
    {
      "cell_type": "code",
      "execution_count": null,
      "metadata": {
        "id": "L0_uIw5HXe7h"
      },
      "outputs": [],
      "source": [
        "combined_df['tests_per_million'] = combined_df['total_tests'] * 1e6 / combined_df['population']"
      ]
    },
    {
      "cell_type": "code",
      "execution_count": null,
      "metadata": {
        "id": "fXBs-cFHXe7i"
      },
      "outputs": [],
      "source": [
        "combined_df['cases_per_million'] = combined_df['total_cases'] * 1e6 / combined_df['population']"
      ]
    },
    {
      "cell_type": "code",
      "execution_count": null,
      "metadata": {
        "id": "j7dHq1HpXe7j"
      },
      "outputs": [],
      "source": [
        "combined_df['deaths_per_million'] = combined_df['total_deaths'] * 1e6 / combined_df['population']"
      ]
    },
    {
      "cell_type": "code",
      "execution_count": null,
      "metadata": {
        "colab": {
          "base_uri": "https://localhost:8080/",
          "height": 505
        },
        "id": "N8FZqBMmXe7m",
        "outputId": "da5f11e6-4d60-44d6-f597-f80b0e6c3c25"
      },
      "outputs": [
        {
          "data": {
            "text/html": [
              "\n",
              "  <div id=\"df-48d87301-7238-417a-bacf-155c9c2bcfa3\">\n",
              "    <div class=\"colab-df-container\">\n",
              "      <div>\n",
              "<style scoped>\n",
              "    .dataframe tbody tr th:only-of-type {\n",
              "        vertical-align: middle;\n",
              "    }\n",
              "\n",
              "    .dataframe tbody tr th {\n",
              "        vertical-align: top;\n",
              "    }\n",
              "\n",
              "    .dataframe thead th {\n",
              "        text-align: right;\n",
              "    }\n",
              "</style>\n",
              "<table border=\"1\" class=\"dataframe\">\n",
              "  <thead>\n",
              "    <tr style=\"text-align: right;\">\n",
              "      <th></th>\n",
              "      <th>location</th>\n",
              "      <th>continent</th>\n",
              "      <th>population</th>\n",
              "      <th>life_expectancy</th>\n",
              "      <th>hospital_beds_per_thousand</th>\n",
              "      <th>gdp_per_capita</th>\n",
              "      <th>gdp</th>\n",
              "      <th>total_cases</th>\n",
              "      <th>total_deaths</th>\n",
              "      <th>total_tests</th>\n",
              "      <th>tests_per_million</th>\n",
              "      <th>cases_per_million</th>\n",
              "      <th>deaths_per_million</th>\n",
              "    </tr>\n",
              "  </thead>\n",
              "  <tbody>\n",
              "    <tr>\n",
              "      <th>0</th>\n",
              "      <td>Afghanistan</td>\n",
              "      <td>Asia</td>\n",
              "      <td>38928341.0</td>\n",
              "      <td>64.83</td>\n",
              "      <td>0.50</td>\n",
              "      <td>1803.987</td>\n",
              "      <td>7.022622e+10</td>\n",
              "      <td>38243.0</td>\n",
              "      <td>1409.0</td>\n",
              "      <td>NaN</td>\n",
              "      <td>NaN</td>\n",
              "      <td>982.394806</td>\n",
              "      <td>36.194710</td>\n",
              "    </tr>\n",
              "    <tr>\n",
              "      <th>1</th>\n",
              "      <td>Albania</td>\n",
              "      <td>Europe</td>\n",
              "      <td>2877800.0</td>\n",
              "      <td>78.57</td>\n",
              "      <td>2.89</td>\n",
              "      <td>11803.431</td>\n",
              "      <td>3.396791e+10</td>\n",
              "      <td>9728.0</td>\n",
              "      <td>296.0</td>\n",
              "      <td>NaN</td>\n",
              "      <td>NaN</td>\n",
              "      <td>3380.359997</td>\n",
              "      <td>102.856349</td>\n",
              "    </tr>\n",
              "    <tr>\n",
              "      <th>2</th>\n",
              "      <td>Algeria</td>\n",
              "      <td>Africa</td>\n",
              "      <td>43851043.0</td>\n",
              "      <td>76.88</td>\n",
              "      <td>1.90</td>\n",
              "      <td>13913.839</td>\n",
              "      <td>6.101364e+11</td>\n",
              "      <td>45158.0</td>\n",
              "      <td>1525.0</td>\n",
              "      <td>NaN</td>\n",
              "      <td>NaN</td>\n",
              "      <td>1029.804468</td>\n",
              "      <td>34.776824</td>\n",
              "    </tr>\n",
              "    <tr>\n",
              "      <th>3</th>\n",
              "      <td>Andorra</td>\n",
              "      <td>Europe</td>\n",
              "      <td>77265.0</td>\n",
              "      <td>83.73</td>\n",
              "      <td>NaN</td>\n",
              "      <td>NaN</td>\n",
              "      <td>NaN</td>\n",
              "      <td>1199.0</td>\n",
              "      <td>53.0</td>\n",
              "      <td>NaN</td>\n",
              "      <td>NaN</td>\n",
              "      <td>15518.022390</td>\n",
              "      <td>685.950948</td>\n",
              "    </tr>\n",
              "    <tr>\n",
              "      <th>4</th>\n",
              "      <td>Angola</td>\n",
              "      <td>Africa</td>\n",
              "      <td>32866268.0</td>\n",
              "      <td>61.15</td>\n",
              "      <td>NaN</td>\n",
              "      <td>5819.495</td>\n",
              "      <td>1.912651e+11</td>\n",
              "      <td>2729.0</td>\n",
              "      <td>109.0</td>\n",
              "      <td>NaN</td>\n",
              "      <td>NaN</td>\n",
              "      <td>83.033462</td>\n",
              "      <td>3.316470</td>\n",
              "    </tr>\n",
              "    <tr>\n",
              "      <th>...</th>\n",
              "      <td>...</td>\n",
              "      <td>...</td>\n",
              "      <td>...</td>\n",
              "      <td>...</td>\n",
              "      <td>...</td>\n",
              "      <td>...</td>\n",
              "      <td>...</td>\n",
              "      <td>...</td>\n",
              "      <td>...</td>\n",
              "      <td>...</td>\n",
              "      <td>...</td>\n",
              "      <td>...</td>\n",
              "      <td>...</td>\n",
              "    </tr>\n",
              "    <tr>\n",
              "      <th>205</th>\n",
              "      <td>Vietnam</td>\n",
              "      <td>Asia</td>\n",
              "      <td>97338583.0</td>\n",
              "      <td>75.40</td>\n",
              "      <td>2.60</td>\n",
              "      <td>6171.884</td>\n",
              "      <td>6.007624e+11</td>\n",
              "      <td>1046.0</td>\n",
              "      <td>35.0</td>\n",
              "      <td>261004.0</td>\n",
              "      <td>2681.403324</td>\n",
              "      <td>10.745996</td>\n",
              "      <td>0.359570</td>\n",
              "    </tr>\n",
              "    <tr>\n",
              "      <th>206</th>\n",
              "      <td>Western Sahara</td>\n",
              "      <td>Africa</td>\n",
              "      <td>597330.0</td>\n",
              "      <td>70.26</td>\n",
              "      <td>NaN</td>\n",
              "      <td>NaN</td>\n",
              "      <td>NaN</td>\n",
              "      <td>766.0</td>\n",
              "      <td>1.0</td>\n",
              "      <td>NaN</td>\n",
              "      <td>NaN</td>\n",
              "      <td>1282.373228</td>\n",
              "      <td>1.674116</td>\n",
              "    </tr>\n",
              "    <tr>\n",
              "      <th>207</th>\n",
              "      <td>Yemen</td>\n",
              "      <td>Asia</td>\n",
              "      <td>29825968.0</td>\n",
              "      <td>66.12</td>\n",
              "      <td>0.70</td>\n",
              "      <td>1479.147</td>\n",
              "      <td>4.411699e+10</td>\n",
              "      <td>1976.0</td>\n",
              "      <td>571.0</td>\n",
              "      <td>NaN</td>\n",
              "      <td>NaN</td>\n",
              "      <td>66.250993</td>\n",
              "      <td>19.144391</td>\n",
              "    </tr>\n",
              "    <tr>\n",
              "      <th>208</th>\n",
              "      <td>Zambia</td>\n",
              "      <td>Africa</td>\n",
              "      <td>18383956.0</td>\n",
              "      <td>63.89</td>\n",
              "      <td>2.00</td>\n",
              "      <td>3689.251</td>\n",
              "      <td>6.782303e+10</td>\n",
              "      <td>12415.0</td>\n",
              "      <td>292.0</td>\n",
              "      <td>NaN</td>\n",
              "      <td>NaN</td>\n",
              "      <td>675.317108</td>\n",
              "      <td>15.883415</td>\n",
              "    </tr>\n",
              "    <tr>\n",
              "      <th>209</th>\n",
              "      <td>Zimbabwe</td>\n",
              "      <td>Africa</td>\n",
              "      <td>14862927.0</td>\n",
              "      <td>61.49</td>\n",
              "      <td>1.70</td>\n",
              "      <td>1899.775</td>\n",
              "      <td>2.823622e+10</td>\n",
              "      <td>6638.0</td>\n",
              "      <td>206.0</td>\n",
              "      <td>97272.0</td>\n",
              "      <td>6544.605918</td>\n",
              "      <td>446.614587</td>\n",
              "      <td>13.859989</td>\n",
              "    </tr>\n",
              "  </tbody>\n",
              "</table>\n",
              "<p>210 rows × 13 columns</p>\n",
              "</div>\n",
              "      <button class=\"colab-df-convert\" onclick=\"convertToInteractive('df-48d87301-7238-417a-bacf-155c9c2bcfa3')\"\n",
              "              title=\"Convert this dataframe to an interactive table.\"\n",
              "              style=\"display:none;\">\n",
              "        \n",
              "  <svg xmlns=\"http://www.w3.org/2000/svg\" height=\"24px\"viewBox=\"0 0 24 24\"\n",
              "       width=\"24px\">\n",
              "    <path d=\"M0 0h24v24H0V0z\" fill=\"none\"/>\n",
              "    <path d=\"M18.56 5.44l.94 2.06.94-2.06 2.06-.94-2.06-.94-.94-2.06-.94 2.06-2.06.94zm-11 1L8.5 8.5l.94-2.06 2.06-.94-2.06-.94L8.5 2.5l-.94 2.06-2.06.94zm10 10l.94 2.06.94-2.06 2.06-.94-2.06-.94-.94-2.06-.94 2.06-2.06.94z\"/><path d=\"M17.41 7.96l-1.37-1.37c-.4-.4-.92-.59-1.43-.59-.52 0-1.04.2-1.43.59L10.3 9.45l-7.72 7.72c-.78.78-.78 2.05 0 2.83L4 21.41c.39.39.9.59 1.41.59.51 0 1.02-.2 1.41-.59l7.78-7.78 2.81-2.81c.8-.78.8-2.07 0-2.86zM5.41 20L4 18.59l7.72-7.72 1.47 1.35L5.41 20z\"/>\n",
              "  </svg>\n",
              "      </button>\n",
              "      \n",
              "  <style>\n",
              "    .colab-df-container {\n",
              "      display:flex;\n",
              "      flex-wrap:wrap;\n",
              "      gap: 12px;\n",
              "    }\n",
              "\n",
              "    .colab-df-convert {\n",
              "      background-color: #E8F0FE;\n",
              "      border: none;\n",
              "      border-radius: 50%;\n",
              "      cursor: pointer;\n",
              "      display: none;\n",
              "      fill: #1967D2;\n",
              "      height: 32px;\n",
              "      padding: 0 0 0 0;\n",
              "      width: 32px;\n",
              "    }\n",
              "\n",
              "    .colab-df-convert:hover {\n",
              "      background-color: #E2EBFA;\n",
              "      box-shadow: 0px 1px 2px rgba(60, 64, 67, 0.3), 0px 1px 3px 1px rgba(60, 64, 67, 0.15);\n",
              "      fill: #174EA6;\n",
              "    }\n",
              "\n",
              "    [theme=dark] .colab-df-convert {\n",
              "      background-color: #3B4455;\n",
              "      fill: #D2E3FC;\n",
              "    }\n",
              "\n",
              "    [theme=dark] .colab-df-convert:hover {\n",
              "      background-color: #434B5C;\n",
              "      box-shadow: 0px 1px 3px 1px rgba(0, 0, 0, 0.15);\n",
              "      filter: drop-shadow(0px 1px 2px rgba(0, 0, 0, 0.3));\n",
              "      fill: #FFFFFF;\n",
              "    }\n",
              "  </style>\n",
              "\n",
              "      <script>\n",
              "        const buttonEl =\n",
              "          document.querySelector('#df-48d87301-7238-417a-bacf-155c9c2bcfa3 button.colab-df-convert');\n",
              "        buttonEl.style.display =\n",
              "          google.colab.kernel.accessAllowed ? 'block' : 'none';\n",
              "\n",
              "        async function convertToInteractive(key) {\n",
              "          const element = document.querySelector('#df-48d87301-7238-417a-bacf-155c9c2bcfa3');\n",
              "          const dataTable =\n",
              "            await google.colab.kernel.invokeFunction('convertToInteractive',\n",
              "                                                     [key], {});\n",
              "          if (!dataTable) return;\n",
              "\n",
              "          const docLinkHtml = 'Like what you see? Visit the ' +\n",
              "            '<a target=\"_blank\" href=https://colab.research.google.com/notebooks/data_table.ipynb>data table notebook</a>'\n",
              "            + ' to learn more about interactive tables.';\n",
              "          element.innerHTML = '';\n",
              "          dataTable['output_type'] = 'display_data';\n",
              "          await google.colab.output.renderOutput(dataTable, element);\n",
              "          const docLink = document.createElement('div');\n",
              "          docLink.innerHTML = docLinkHtml;\n",
              "          element.appendChild(docLink);\n",
              "        }\n",
              "      </script>\n",
              "    </div>\n",
              "  </div>\n",
              "  "
            ],
            "text/plain": [
              "           location continent  population  life_expectancy  \\\n",
              "0       Afghanistan      Asia  38928341.0            64.83   \n",
              "1           Albania    Europe   2877800.0            78.57   \n",
              "2           Algeria    Africa  43851043.0            76.88   \n",
              "3           Andorra    Europe     77265.0            83.73   \n",
              "4            Angola    Africa  32866268.0            61.15   \n",
              "..              ...       ...         ...              ...   \n",
              "205         Vietnam      Asia  97338583.0            75.40   \n",
              "206  Western Sahara    Africa    597330.0            70.26   \n",
              "207           Yemen      Asia  29825968.0            66.12   \n",
              "208          Zambia    Africa  18383956.0            63.89   \n",
              "209        Zimbabwe    Africa  14862927.0            61.49   \n",
              "\n",
              "     hospital_beds_per_thousand  gdp_per_capita           gdp  total_cases  \\\n",
              "0                          0.50        1803.987  7.022622e+10      38243.0   \n",
              "1                          2.89       11803.431  3.396791e+10       9728.0   \n",
              "2                          1.90       13913.839  6.101364e+11      45158.0   \n",
              "3                           NaN             NaN           NaN       1199.0   \n",
              "4                           NaN        5819.495  1.912651e+11       2729.0   \n",
              "..                          ...             ...           ...          ...   \n",
              "205                        2.60        6171.884  6.007624e+11       1046.0   \n",
              "206                         NaN             NaN           NaN        766.0   \n",
              "207                        0.70        1479.147  4.411699e+10       1976.0   \n",
              "208                        2.00        3689.251  6.782303e+10      12415.0   \n",
              "209                        1.70        1899.775  2.823622e+10       6638.0   \n",
              "\n",
              "     total_deaths  total_tests  tests_per_million  cases_per_million  \\\n",
              "0          1409.0          NaN                NaN         982.394806   \n",
              "1           296.0          NaN                NaN        3380.359997   \n",
              "2          1525.0          NaN                NaN        1029.804468   \n",
              "3            53.0          NaN                NaN       15518.022390   \n",
              "4           109.0          NaN                NaN          83.033462   \n",
              "..            ...          ...                ...                ...   \n",
              "205          35.0     261004.0        2681.403324          10.745996   \n",
              "206           1.0          NaN                NaN        1282.373228   \n",
              "207         571.0          NaN                NaN          66.250993   \n",
              "208         292.0          NaN                NaN         675.317108   \n",
              "209         206.0      97272.0        6544.605918         446.614587   \n",
              "\n",
              "     deaths_per_million  \n",
              "0             36.194710  \n",
              "1            102.856349  \n",
              "2             34.776824  \n",
              "3            685.950948  \n",
              "4              3.316470  \n",
              "..                  ...  \n",
              "205            0.359570  \n",
              "206            1.674116  \n",
              "207           19.144391  \n",
              "208           15.883415  \n",
              "209           13.859989  \n",
              "\n",
              "[210 rows x 13 columns]"
            ]
          },
          "execution_count": 278,
          "metadata": {},
          "output_type": "execute_result"
        }
      ],
      "source": [
        "combined_df"
      ]
    },
    {
      "cell_type": "code",
      "execution_count": null,
      "metadata": {
        "colab": {
          "base_uri": "https://localhost:8080/"
        },
        "id": "9rj3RkxvXe7n",
        "outputId": "8e9d4adb-5d27-4563-d60c-36906e8bfab8"
      },
      "outputs": [
        {
          "name": "stdout",
          "output_type": "stream",
          "text": [
            "[jovian] Detected Colab notebook...\u001b[0m\n",
            "[jovian] jovian.commit() is no longer required on Google Colab. If you ran this notebook from Jovian, \n",
            "then just save this file in Colab using Ctrl+S/Cmd+S and it will be updated on Jovian. \n",
            "Also, you can also delete this cell, it's no longer necessary.\u001b[0m\n"
          ]
        }
      ],
      "source": [
        "jovian.commit(project='pandas-practice-assignment', environment=None)"
      ]
    },
    {
      "cell_type": "markdown",
      "metadata": {
        "id": "zeDu1Me-Xe7p"
      },
      "source": [
        "**Q11: Create a dataframe with 10 countires that have highest number of tests per million people.**"
      ]
    },
    {
      "cell_type": "code",
      "execution_count": null,
      "metadata": {
        "id": "ijQUmFAuXe7r"
      },
      "outputs": [],
      "source": [
        "highest_tests_df = combined_df.sort_values(by='tests_per_million',ascending=False).head(10).reset_index()"
      ]
    },
    {
      "cell_type": "code",
      "execution_count": null,
      "metadata": {
        "colab": {
          "base_uri": "https://localhost:8080/",
          "height": 461
        },
        "id": "lY8UwhWhXe7t",
        "outputId": "c4c49cd2-33bd-4c6c-a5d4-6d5d92bef724"
      },
      "outputs": [
        {
          "data": {
            "text/html": [
              "\n",
              "  <div id=\"df-5dd5a9c1-4395-481e-9360-d7a8a55219c0\">\n",
              "    <div class=\"colab-df-container\">\n",
              "      <div>\n",
              "<style scoped>\n",
              "    .dataframe tbody tr th:only-of-type {\n",
              "        vertical-align: middle;\n",
              "    }\n",
              "\n",
              "    .dataframe tbody tr th {\n",
              "        vertical-align: top;\n",
              "    }\n",
              "\n",
              "    .dataframe thead th {\n",
              "        text-align: right;\n",
              "    }\n",
              "</style>\n",
              "<table border=\"1\" class=\"dataframe\">\n",
              "  <thead>\n",
              "    <tr style=\"text-align: right;\">\n",
              "      <th></th>\n",
              "      <th>index</th>\n",
              "      <th>location</th>\n",
              "      <th>continent</th>\n",
              "      <th>population</th>\n",
              "      <th>life_expectancy</th>\n",
              "      <th>hospital_beds_per_thousand</th>\n",
              "      <th>gdp_per_capita</th>\n",
              "      <th>gdp</th>\n",
              "      <th>total_cases</th>\n",
              "      <th>total_deaths</th>\n",
              "      <th>total_tests</th>\n",
              "      <th>tests_per_million</th>\n",
              "      <th>cases_per_million</th>\n",
              "      <th>deaths_per_million</th>\n",
              "    </tr>\n",
              "  </thead>\n",
              "  <tbody>\n",
              "    <tr>\n",
              "      <th>0</th>\n",
              "      <td>197</td>\n",
              "      <td>United Arab Emirates</td>\n",
              "      <td>Asia</td>\n",
              "      <td>9890400.0</td>\n",
              "      <td>77.97</td>\n",
              "      <td>1.200</td>\n",
              "      <td>67293.483</td>\n",
              "      <td>6.655595e+11</td>\n",
              "      <td>71540.0</td>\n",
              "      <td>387.0</td>\n",
              "      <td>7177430.0</td>\n",
              "      <td>725696.635121</td>\n",
              "      <td>7233.276713</td>\n",
              "      <td>39.128852</td>\n",
              "    </tr>\n",
              "    <tr>\n",
              "      <th>1</th>\n",
              "      <td>14</td>\n",
              "      <td>Bahrain</td>\n",
              "      <td>Asia</td>\n",
              "      <td>1701583.0</td>\n",
              "      <td>77.29</td>\n",
              "      <td>2.000</td>\n",
              "      <td>43290.705</td>\n",
              "      <td>7.366273e+10</td>\n",
              "      <td>52440.0</td>\n",
              "      <td>190.0</td>\n",
              "      <td>1118837.0</td>\n",
              "      <td>657527.137965</td>\n",
              "      <td>30818.361490</td>\n",
              "      <td>111.660730</td>\n",
              "    </tr>\n",
              "    <tr>\n",
              "      <th>2</th>\n",
              "      <td>115</td>\n",
              "      <td>Luxembourg</td>\n",
              "      <td>Europe</td>\n",
              "      <td>625976.0</td>\n",
              "      <td>82.25</td>\n",
              "      <td>4.510</td>\n",
              "      <td>94277.965</td>\n",
              "      <td>5.901574e+10</td>\n",
              "      <td>7928.0</td>\n",
              "      <td>124.0</td>\n",
              "      <td>385820.0</td>\n",
              "      <td>616349.508607</td>\n",
              "      <td>12665.022301</td>\n",
              "      <td>198.090662</td>\n",
              "    </tr>\n",
              "    <tr>\n",
              "      <th>3</th>\n",
              "      <td>122</td>\n",
              "      <td>Malta</td>\n",
              "      <td>Europe</td>\n",
              "      <td>441539.0</td>\n",
              "      <td>82.53</td>\n",
              "      <td>4.485</td>\n",
              "      <td>36513.323</td>\n",
              "      <td>1.612206e+10</td>\n",
              "      <td>1931.0</td>\n",
              "      <td>13.0</td>\n",
              "      <td>188539.0</td>\n",
              "      <td>427004.183096</td>\n",
              "      <td>4373.339614</td>\n",
              "      <td>29.442473</td>\n",
              "    </tr>\n",
              "    <tr>\n",
              "      <th>4</th>\n",
              "      <td>53</td>\n",
              "      <td>Denmark</td>\n",
              "      <td>Europe</td>\n",
              "      <td>5792203.0</td>\n",
              "      <td>80.90</td>\n",
              "      <td>2.500</td>\n",
              "      <td>46682.515</td>\n",
              "      <td>2.703946e+11</td>\n",
              "      <td>17195.0</td>\n",
              "      <td>626.0</td>\n",
              "      <td>2447911.0</td>\n",
              "      <td>422621.755488</td>\n",
              "      <td>2968.645954</td>\n",
              "      <td>108.076323</td>\n",
              "    </tr>\n",
              "    <tr>\n",
              "      <th>5</th>\n",
              "      <td>96</td>\n",
              "      <td>Israel</td>\n",
              "      <td>Asia</td>\n",
              "      <td>8655541.0</td>\n",
              "      <td>82.97</td>\n",
              "      <td>2.990</td>\n",
              "      <td>33132.320</td>\n",
              "      <td>2.867782e+11</td>\n",
              "      <td>122539.0</td>\n",
              "      <td>969.0</td>\n",
              "      <td>2353984.0</td>\n",
              "      <td>271962.665303</td>\n",
              "      <td>14157.289533</td>\n",
              "      <td>111.951408</td>\n",
              "    </tr>\n",
              "    <tr>\n",
              "      <th>6</th>\n",
              "      <td>89</td>\n",
              "      <td>Iceland</td>\n",
              "      <td>Europe</td>\n",
              "      <td>341250.0</td>\n",
              "      <td>82.99</td>\n",
              "      <td>2.910</td>\n",
              "      <td>46482.958</td>\n",
              "      <td>1.586231e+10</td>\n",
              "      <td>2121.0</td>\n",
              "      <td>10.0</td>\n",
              "      <td>88829.0</td>\n",
              "      <td>260304.761905</td>\n",
              "      <td>6215.384615</td>\n",
              "      <td>29.304029</td>\n",
              "    </tr>\n",
              "    <tr>\n",
              "      <th>7</th>\n",
              "      <td>157</td>\n",
              "      <td>Russia</td>\n",
              "      <td>Europe</td>\n",
              "      <td>145934460.0</td>\n",
              "      <td>72.58</td>\n",
              "      <td>8.050</td>\n",
              "      <td>24765.954</td>\n",
              "      <td>3.614206e+12</td>\n",
              "      <td>1005000.0</td>\n",
              "      <td>17414.0</td>\n",
              "      <td>37176827.0</td>\n",
              "      <td>254750.159763</td>\n",
              "      <td>6886.653091</td>\n",
              "      <td>119.327539</td>\n",
              "    </tr>\n",
              "    <tr>\n",
              "      <th>8</th>\n",
              "      <td>199</td>\n",
              "      <td>United States</td>\n",
              "      <td>North America</td>\n",
              "      <td>331002647.0</td>\n",
              "      <td>78.86</td>\n",
              "      <td>2.770</td>\n",
              "      <td>54225.446</td>\n",
              "      <td>1.794877e+13</td>\n",
              "      <td>6114406.0</td>\n",
              "      <td>185744.0</td>\n",
              "      <td>83898416.0</td>\n",
              "      <td>253467.507769</td>\n",
              "      <td>18472.377957</td>\n",
              "      <td>561.155633</td>\n",
              "    </tr>\n",
              "    <tr>\n",
              "      <th>9</th>\n",
              "      <td>10</td>\n",
              "      <td>Australia</td>\n",
              "      <td>Oceania</td>\n",
              "      <td>25499881.0</td>\n",
              "      <td>83.44</td>\n",
              "      <td>3.840</td>\n",
              "      <td>44648.710</td>\n",
              "      <td>1.138537e+12</td>\n",
              "      <td>25923.0</td>\n",
              "      <td>663.0</td>\n",
              "      <td>6255797.0</td>\n",
              "      <td>245326.517406</td>\n",
              "      <td>1016.592979</td>\n",
              "      <td>26.000121</td>\n",
              "    </tr>\n",
              "  </tbody>\n",
              "</table>\n",
              "</div>\n",
              "      <button class=\"colab-df-convert\" onclick=\"convertToInteractive('df-5dd5a9c1-4395-481e-9360-d7a8a55219c0')\"\n",
              "              title=\"Convert this dataframe to an interactive table.\"\n",
              "              style=\"display:none;\">\n",
              "        \n",
              "  <svg xmlns=\"http://www.w3.org/2000/svg\" height=\"24px\"viewBox=\"0 0 24 24\"\n",
              "       width=\"24px\">\n",
              "    <path d=\"M0 0h24v24H0V0z\" fill=\"none\"/>\n",
              "    <path d=\"M18.56 5.44l.94 2.06.94-2.06 2.06-.94-2.06-.94-.94-2.06-.94 2.06-2.06.94zm-11 1L8.5 8.5l.94-2.06 2.06-.94-2.06-.94L8.5 2.5l-.94 2.06-2.06.94zm10 10l.94 2.06.94-2.06 2.06-.94-2.06-.94-.94-2.06-.94 2.06-2.06.94z\"/><path d=\"M17.41 7.96l-1.37-1.37c-.4-.4-.92-.59-1.43-.59-.52 0-1.04.2-1.43.59L10.3 9.45l-7.72 7.72c-.78.78-.78 2.05 0 2.83L4 21.41c.39.39.9.59 1.41.59.51 0 1.02-.2 1.41-.59l7.78-7.78 2.81-2.81c.8-.78.8-2.07 0-2.86zM5.41 20L4 18.59l7.72-7.72 1.47 1.35L5.41 20z\"/>\n",
              "  </svg>\n",
              "      </button>\n",
              "      \n",
              "  <style>\n",
              "    .colab-df-container {\n",
              "      display:flex;\n",
              "      flex-wrap:wrap;\n",
              "      gap: 12px;\n",
              "    }\n",
              "\n",
              "    .colab-df-convert {\n",
              "      background-color: #E8F0FE;\n",
              "      border: none;\n",
              "      border-radius: 50%;\n",
              "      cursor: pointer;\n",
              "      display: none;\n",
              "      fill: #1967D2;\n",
              "      height: 32px;\n",
              "      padding: 0 0 0 0;\n",
              "      width: 32px;\n",
              "    }\n",
              "\n",
              "    .colab-df-convert:hover {\n",
              "      background-color: #E2EBFA;\n",
              "      box-shadow: 0px 1px 2px rgba(60, 64, 67, 0.3), 0px 1px 3px 1px rgba(60, 64, 67, 0.15);\n",
              "      fill: #174EA6;\n",
              "    }\n",
              "\n",
              "    [theme=dark] .colab-df-convert {\n",
              "      background-color: #3B4455;\n",
              "      fill: #D2E3FC;\n",
              "    }\n",
              "\n",
              "    [theme=dark] .colab-df-convert:hover {\n",
              "      background-color: #434B5C;\n",
              "      box-shadow: 0px 1px 3px 1px rgba(0, 0, 0, 0.15);\n",
              "      filter: drop-shadow(0px 1px 2px rgba(0, 0, 0, 0.3));\n",
              "      fill: #FFFFFF;\n",
              "    }\n",
              "  </style>\n",
              "\n",
              "      <script>\n",
              "        const buttonEl =\n",
              "          document.querySelector('#df-5dd5a9c1-4395-481e-9360-d7a8a55219c0 button.colab-df-convert');\n",
              "        buttonEl.style.display =\n",
              "          google.colab.kernel.accessAllowed ? 'block' : 'none';\n",
              "\n",
              "        async function convertToInteractive(key) {\n",
              "          const element = document.querySelector('#df-5dd5a9c1-4395-481e-9360-d7a8a55219c0');\n",
              "          const dataTable =\n",
              "            await google.colab.kernel.invokeFunction('convertToInteractive',\n",
              "                                                     [key], {});\n",
              "          if (!dataTable) return;\n",
              "\n",
              "          const docLinkHtml = 'Like what you see? Visit the ' +\n",
              "            '<a target=\"_blank\" href=https://colab.research.google.com/notebooks/data_table.ipynb>data table notebook</a>'\n",
              "            + ' to learn more about interactive tables.';\n",
              "          element.innerHTML = '';\n",
              "          dataTable['output_type'] = 'display_data';\n",
              "          await google.colab.output.renderOutput(dataTable, element);\n",
              "          const docLink = document.createElement('div');\n",
              "          docLink.innerHTML = docLinkHtml;\n",
              "          element.appendChild(docLink);\n",
              "        }\n",
              "      </script>\n",
              "    </div>\n",
              "  </div>\n",
              "  "
            ],
            "text/plain": [
              "   index              location      continent   population  life_expectancy  \\\n",
              "0    197  United Arab Emirates           Asia    9890400.0            77.97   \n",
              "1     14               Bahrain           Asia    1701583.0            77.29   \n",
              "2    115            Luxembourg         Europe     625976.0            82.25   \n",
              "3    122                 Malta         Europe     441539.0            82.53   \n",
              "4     53               Denmark         Europe    5792203.0            80.90   \n",
              "5     96                Israel           Asia    8655541.0            82.97   \n",
              "6     89               Iceland         Europe     341250.0            82.99   \n",
              "7    157                Russia         Europe  145934460.0            72.58   \n",
              "8    199         United States  North America  331002647.0            78.86   \n",
              "9     10             Australia        Oceania   25499881.0            83.44   \n",
              "\n",
              "   hospital_beds_per_thousand  gdp_per_capita           gdp  total_cases  \\\n",
              "0                       1.200       67293.483  6.655595e+11      71540.0   \n",
              "1                       2.000       43290.705  7.366273e+10      52440.0   \n",
              "2                       4.510       94277.965  5.901574e+10       7928.0   \n",
              "3                       4.485       36513.323  1.612206e+10       1931.0   \n",
              "4                       2.500       46682.515  2.703946e+11      17195.0   \n",
              "5                       2.990       33132.320  2.867782e+11     122539.0   \n",
              "6                       2.910       46482.958  1.586231e+10       2121.0   \n",
              "7                       8.050       24765.954  3.614206e+12    1005000.0   \n",
              "8                       2.770       54225.446  1.794877e+13    6114406.0   \n",
              "9                       3.840       44648.710  1.138537e+12      25923.0   \n",
              "\n",
              "   total_deaths  total_tests  tests_per_million  cases_per_million  \\\n",
              "0         387.0    7177430.0      725696.635121        7233.276713   \n",
              "1         190.0    1118837.0      657527.137965       30818.361490   \n",
              "2         124.0     385820.0      616349.508607       12665.022301   \n",
              "3          13.0     188539.0      427004.183096        4373.339614   \n",
              "4         626.0    2447911.0      422621.755488        2968.645954   \n",
              "5         969.0    2353984.0      271962.665303       14157.289533   \n",
              "6          10.0      88829.0      260304.761905        6215.384615   \n",
              "7       17414.0   37176827.0      254750.159763        6886.653091   \n",
              "8      185744.0   83898416.0      253467.507769       18472.377957   \n",
              "9         663.0    6255797.0      245326.517406        1016.592979   \n",
              "\n",
              "   deaths_per_million  \n",
              "0           39.128852  \n",
              "1          111.660730  \n",
              "2          198.090662  \n",
              "3           29.442473  \n",
              "4          108.076323  \n",
              "5          111.951408  \n",
              "6           29.304029  \n",
              "7          119.327539  \n",
              "8          561.155633  \n",
              "9           26.000121  "
            ]
          },
          "execution_count": 281,
          "metadata": {},
          "output_type": "execute_result"
        }
      ],
      "source": [
        "highest_tests_df"
      ]
    },
    {
      "cell_type": "code",
      "execution_count": null,
      "metadata": {
        "colab": {
          "base_uri": "https://localhost:8080/"
        },
        "id": "a9xJgtkkXe7u",
        "outputId": "f1bf827b-437d-4917-8011-93d1410c47d6"
      },
      "outputs": [
        {
          "name": "stdout",
          "output_type": "stream",
          "text": [
            "[jovian] Detected Colab notebook...\u001b[0m\n",
            "[jovian] jovian.commit() is no longer required on Google Colab. If you ran this notebook from Jovian, \n",
            "then just save this file in Colab using Ctrl+S/Cmd+S and it will be updated on Jovian. \n",
            "Also, you can also delete this cell, it's no longer necessary.\u001b[0m\n"
          ]
        }
      ],
      "source": [
        "jovian.commit(project='pandas-practice-assignment', environment=None)"
      ]
    },
    {
      "cell_type": "markdown",
      "metadata": {
        "id": "dkiF3lmYXe7w"
      },
      "source": [
        "**Q12: Create a dataframe with 10 countires that have highest number of positive cases per million people.**"
      ]
    },
    {
      "cell_type": "code",
      "execution_count": null,
      "metadata": {
        "id": "T1JgHJICXe7x"
      },
      "outputs": [],
      "source": [
        "highest_cases_df = combined_df.sort_values(by='cases_per_million',ascending=False).head(10).reset_index()"
      ]
    },
    {
      "cell_type": "code",
      "execution_count": null,
      "metadata": {
        "colab": {
          "base_uri": "https://localhost:8080/",
          "height": 548
        },
        "id": "M-ut5BoTXe7z",
        "outputId": "4b4fd976-57e6-4aa6-9cf0-34ad3d759142"
      },
      "outputs": [
        {
          "data": {
            "text/html": [
              "\n",
              "  <div id=\"df-2a6cb670-d28a-4b5d-85b0-3effe8321ce7\">\n",
              "    <div class=\"colab-df-container\">\n",
              "      <div>\n",
              "<style scoped>\n",
              "    .dataframe tbody tr th:only-of-type {\n",
              "        vertical-align: middle;\n",
              "    }\n",
              "\n",
              "    .dataframe tbody tr th {\n",
              "        vertical-align: top;\n",
              "    }\n",
              "\n",
              "    .dataframe thead th {\n",
              "        text-align: right;\n",
              "    }\n",
              "</style>\n",
              "<table border=\"1\" class=\"dataframe\">\n",
              "  <thead>\n",
              "    <tr style=\"text-align: right;\">\n",
              "      <th></th>\n",
              "      <th>index</th>\n",
              "      <th>location</th>\n",
              "      <th>continent</th>\n",
              "      <th>population</th>\n",
              "      <th>life_expectancy</th>\n",
              "      <th>hospital_beds_per_thousand</th>\n",
              "      <th>gdp_per_capita</th>\n",
              "      <th>gdp</th>\n",
              "      <th>total_cases</th>\n",
              "      <th>total_deaths</th>\n",
              "      <th>total_tests</th>\n",
              "      <th>tests_per_million</th>\n",
              "      <th>cases_per_million</th>\n",
              "      <th>deaths_per_million</th>\n",
              "    </tr>\n",
              "  </thead>\n",
              "  <tbody>\n",
              "    <tr>\n",
              "      <th>0</th>\n",
              "      <td>155</td>\n",
              "      <td>Qatar</td>\n",
              "      <td>Asia</td>\n",
              "      <td>2881060.0</td>\n",
              "      <td>80.23</td>\n",
              "      <td>1.20</td>\n",
              "      <td>116935.600</td>\n",
              "      <td>3.368985e+11</td>\n",
              "      <td>119206.0</td>\n",
              "      <td>199.0</td>\n",
              "      <td>634745.0</td>\n",
              "      <td>220316.480740</td>\n",
              "      <td>41375.743650</td>\n",
              "      <td>69.071800</td>\n",
              "    </tr>\n",
              "    <tr>\n",
              "      <th>1</th>\n",
              "      <td>14</td>\n",
              "      <td>Bahrain</td>\n",
              "      <td>Asia</td>\n",
              "      <td>1701583.0</td>\n",
              "      <td>77.29</td>\n",
              "      <td>2.00</td>\n",
              "      <td>43290.705</td>\n",
              "      <td>7.366273e+10</td>\n",
              "      <td>52440.0</td>\n",
              "      <td>190.0</td>\n",
              "      <td>1118837.0</td>\n",
              "      <td>657527.137965</td>\n",
              "      <td>30818.361490</td>\n",
              "      <td>111.660730</td>\n",
              "    </tr>\n",
              "    <tr>\n",
              "      <th>2</th>\n",
              "      <td>147</td>\n",
              "      <td>Panama</td>\n",
              "      <td>North America</td>\n",
              "      <td>4314768.0</td>\n",
              "      <td>78.51</td>\n",
              "      <td>2.30</td>\n",
              "      <td>22267.037</td>\n",
              "      <td>9.607710e+10</td>\n",
              "      <td>94084.0</td>\n",
              "      <td>2030.0</td>\n",
              "      <td>336345.0</td>\n",
              "      <td>77952.047480</td>\n",
              "      <td>21805.112117</td>\n",
              "      <td>470.477208</td>\n",
              "    </tr>\n",
              "    <tr>\n",
              "      <th>3</th>\n",
              "      <td>40</td>\n",
              "      <td>Chile</td>\n",
              "      <td>South America</td>\n",
              "      <td>19116209.0</td>\n",
              "      <td>80.18</td>\n",
              "      <td>2.11</td>\n",
              "      <td>22767.037</td>\n",
              "      <td>4.352194e+11</td>\n",
              "      <td>414739.0</td>\n",
              "      <td>11344.0</td>\n",
              "      <td>2458762.0</td>\n",
              "      <td>128621.841287</td>\n",
              "      <td>21695.671982</td>\n",
              "      <td>593.423100</td>\n",
              "    </tr>\n",
              "    <tr>\n",
              "      <th>4</th>\n",
              "      <td>162</td>\n",
              "      <td>San Marino</td>\n",
              "      <td>Europe</td>\n",
              "      <td>33938.0</td>\n",
              "      <td>84.97</td>\n",
              "      <td>3.80</td>\n",
              "      <td>56861.470</td>\n",
              "      <td>1.929765e+09</td>\n",
              "      <td>735.0</td>\n",
              "      <td>42.0</td>\n",
              "      <td>NaN</td>\n",
              "      <td>NaN</td>\n",
              "      <td>21657.139490</td>\n",
              "      <td>1237.550828</td>\n",
              "    </tr>\n",
              "    <tr>\n",
              "      <th>5</th>\n",
              "      <td>9</td>\n",
              "      <td>Aruba</td>\n",
              "      <td>North America</td>\n",
              "      <td>106766.0</td>\n",
              "      <td>76.29</td>\n",
              "      <td>NaN</td>\n",
              "      <td>35973.781</td>\n",
              "      <td>3.840777e+09</td>\n",
              "      <td>2211.0</td>\n",
              "      <td>12.0</td>\n",
              "      <td>NaN</td>\n",
              "      <td>NaN</td>\n",
              "      <td>20708.839893</td>\n",
              "      <td>112.395332</td>\n",
              "    </tr>\n",
              "    <tr>\n",
              "      <th>6</th>\n",
              "      <td>105</td>\n",
              "      <td>Kuwait</td>\n",
              "      <td>Asia</td>\n",
              "      <td>4270563.0</td>\n",
              "      <td>75.49</td>\n",
              "      <td>2.00</td>\n",
              "      <td>65530.537</td>\n",
              "      <td>2.798523e+11</td>\n",
              "      <td>86478.0</td>\n",
              "      <td>535.0</td>\n",
              "      <td>621616.0</td>\n",
              "      <td>145558.325682</td>\n",
              "      <td>20249.789079</td>\n",
              "      <td>125.276222</td>\n",
              "    </tr>\n",
              "    <tr>\n",
              "      <th>7</th>\n",
              "      <td>150</td>\n",
              "      <td>Peru</td>\n",
              "      <td>South America</td>\n",
              "      <td>32971846.0</td>\n",
              "      <td>76.74</td>\n",
              "      <td>1.60</td>\n",
              "      <td>12236.706</td>\n",
              "      <td>4.034668e+11</td>\n",
              "      <td>663437.0</td>\n",
              "      <td>29259.0</td>\n",
              "      <td>584232.0</td>\n",
              "      <td>17719.117092</td>\n",
              "      <td>20121.318048</td>\n",
              "      <td>887.393445</td>\n",
              "    </tr>\n",
              "    <tr>\n",
              "      <th>8</th>\n",
              "      <td>27</td>\n",
              "      <td>Brazil</td>\n",
              "      <td>South America</td>\n",
              "      <td>212559409.0</td>\n",
              "      <td>75.88</td>\n",
              "      <td>2.20</td>\n",
              "      <td>14103.452</td>\n",
              "      <td>2.997821e+12</td>\n",
              "      <td>3997865.0</td>\n",
              "      <td>123780.0</td>\n",
              "      <td>4797948.0</td>\n",
              "      <td>22572.268255</td>\n",
              "      <td>18808.224105</td>\n",
              "      <td>582.331314</td>\n",
              "    </tr>\n",
              "    <tr>\n",
              "      <th>9</th>\n",
              "      <td>199</td>\n",
              "      <td>United States</td>\n",
              "      <td>North America</td>\n",
              "      <td>331002647.0</td>\n",
              "      <td>78.86</td>\n",
              "      <td>2.77</td>\n",
              "      <td>54225.446</td>\n",
              "      <td>1.794877e+13</td>\n",
              "      <td>6114406.0</td>\n",
              "      <td>185744.0</td>\n",
              "      <td>83898416.0</td>\n",
              "      <td>253467.507769</td>\n",
              "      <td>18472.377957</td>\n",
              "      <td>561.155633</td>\n",
              "    </tr>\n",
              "  </tbody>\n",
              "</table>\n",
              "</div>\n",
              "      <button class=\"colab-df-convert\" onclick=\"convertToInteractive('df-2a6cb670-d28a-4b5d-85b0-3effe8321ce7')\"\n",
              "              title=\"Convert this dataframe to an interactive table.\"\n",
              "              style=\"display:none;\">\n",
              "        \n",
              "  <svg xmlns=\"http://www.w3.org/2000/svg\" height=\"24px\"viewBox=\"0 0 24 24\"\n",
              "       width=\"24px\">\n",
              "    <path d=\"M0 0h24v24H0V0z\" fill=\"none\"/>\n",
              "    <path d=\"M18.56 5.44l.94 2.06.94-2.06 2.06-.94-2.06-.94-.94-2.06-.94 2.06-2.06.94zm-11 1L8.5 8.5l.94-2.06 2.06-.94-2.06-.94L8.5 2.5l-.94 2.06-2.06.94zm10 10l.94 2.06.94-2.06 2.06-.94-2.06-.94-.94-2.06-.94 2.06-2.06.94z\"/><path d=\"M17.41 7.96l-1.37-1.37c-.4-.4-.92-.59-1.43-.59-.52 0-1.04.2-1.43.59L10.3 9.45l-7.72 7.72c-.78.78-.78 2.05 0 2.83L4 21.41c.39.39.9.59 1.41.59.51 0 1.02-.2 1.41-.59l7.78-7.78 2.81-2.81c.8-.78.8-2.07 0-2.86zM5.41 20L4 18.59l7.72-7.72 1.47 1.35L5.41 20z\"/>\n",
              "  </svg>\n",
              "      </button>\n",
              "      \n",
              "  <style>\n",
              "    .colab-df-container {\n",
              "      display:flex;\n",
              "      flex-wrap:wrap;\n",
              "      gap: 12px;\n",
              "    }\n",
              "\n",
              "    .colab-df-convert {\n",
              "      background-color: #E8F0FE;\n",
              "      border: none;\n",
              "      border-radius: 50%;\n",
              "      cursor: pointer;\n",
              "      display: none;\n",
              "      fill: #1967D2;\n",
              "      height: 32px;\n",
              "      padding: 0 0 0 0;\n",
              "      width: 32px;\n",
              "    }\n",
              "\n",
              "    .colab-df-convert:hover {\n",
              "      background-color: #E2EBFA;\n",
              "      box-shadow: 0px 1px 2px rgba(60, 64, 67, 0.3), 0px 1px 3px 1px rgba(60, 64, 67, 0.15);\n",
              "      fill: #174EA6;\n",
              "    }\n",
              "\n",
              "    [theme=dark] .colab-df-convert {\n",
              "      background-color: #3B4455;\n",
              "      fill: #D2E3FC;\n",
              "    }\n",
              "\n",
              "    [theme=dark] .colab-df-convert:hover {\n",
              "      background-color: #434B5C;\n",
              "      box-shadow: 0px 1px 3px 1px rgba(0, 0, 0, 0.15);\n",
              "      filter: drop-shadow(0px 1px 2px rgba(0, 0, 0, 0.3));\n",
              "      fill: #FFFFFF;\n",
              "    }\n",
              "  </style>\n",
              "\n",
              "      <script>\n",
              "        const buttonEl =\n",
              "          document.querySelector('#df-2a6cb670-d28a-4b5d-85b0-3effe8321ce7 button.colab-df-convert');\n",
              "        buttonEl.style.display =\n",
              "          google.colab.kernel.accessAllowed ? 'block' : 'none';\n",
              "\n",
              "        async function convertToInteractive(key) {\n",
              "          const element = document.querySelector('#df-2a6cb670-d28a-4b5d-85b0-3effe8321ce7');\n",
              "          const dataTable =\n",
              "            await google.colab.kernel.invokeFunction('convertToInteractive',\n",
              "                                                     [key], {});\n",
              "          if (!dataTable) return;\n",
              "\n",
              "          const docLinkHtml = 'Like what you see? Visit the ' +\n",
              "            '<a target=\"_blank\" href=https://colab.research.google.com/notebooks/data_table.ipynb>data table notebook</a>'\n",
              "            + ' to learn more about interactive tables.';\n",
              "          element.innerHTML = '';\n",
              "          dataTable['output_type'] = 'display_data';\n",
              "          await google.colab.output.renderOutput(dataTable, element);\n",
              "          const docLink = document.createElement('div');\n",
              "          docLink.innerHTML = docLinkHtml;\n",
              "          element.appendChild(docLink);\n",
              "        }\n",
              "      </script>\n",
              "    </div>\n",
              "  </div>\n",
              "  "
            ],
            "text/plain": [
              "   index       location      continent   population  life_expectancy  \\\n",
              "0    155          Qatar           Asia    2881060.0            80.23   \n",
              "1     14        Bahrain           Asia    1701583.0            77.29   \n",
              "2    147         Panama  North America    4314768.0            78.51   \n",
              "3     40          Chile  South America   19116209.0            80.18   \n",
              "4    162     San Marino         Europe      33938.0            84.97   \n",
              "5      9          Aruba  North America     106766.0            76.29   \n",
              "6    105         Kuwait           Asia    4270563.0            75.49   \n",
              "7    150           Peru  South America   32971846.0            76.74   \n",
              "8     27         Brazil  South America  212559409.0            75.88   \n",
              "9    199  United States  North America  331002647.0            78.86   \n",
              "\n",
              "   hospital_beds_per_thousand  gdp_per_capita           gdp  total_cases  \\\n",
              "0                        1.20      116935.600  3.368985e+11     119206.0   \n",
              "1                        2.00       43290.705  7.366273e+10      52440.0   \n",
              "2                        2.30       22267.037  9.607710e+10      94084.0   \n",
              "3                        2.11       22767.037  4.352194e+11     414739.0   \n",
              "4                        3.80       56861.470  1.929765e+09        735.0   \n",
              "5                         NaN       35973.781  3.840777e+09       2211.0   \n",
              "6                        2.00       65530.537  2.798523e+11      86478.0   \n",
              "7                        1.60       12236.706  4.034668e+11     663437.0   \n",
              "8                        2.20       14103.452  2.997821e+12    3997865.0   \n",
              "9                        2.77       54225.446  1.794877e+13    6114406.0   \n",
              "\n",
              "   total_deaths  total_tests  tests_per_million  cases_per_million  \\\n",
              "0         199.0     634745.0      220316.480740       41375.743650   \n",
              "1         190.0    1118837.0      657527.137965       30818.361490   \n",
              "2        2030.0     336345.0       77952.047480       21805.112117   \n",
              "3       11344.0    2458762.0      128621.841287       21695.671982   \n",
              "4          42.0          NaN                NaN       21657.139490   \n",
              "5          12.0          NaN                NaN       20708.839893   \n",
              "6         535.0     621616.0      145558.325682       20249.789079   \n",
              "7       29259.0     584232.0       17719.117092       20121.318048   \n",
              "8      123780.0    4797948.0       22572.268255       18808.224105   \n",
              "9      185744.0   83898416.0      253467.507769       18472.377957   \n",
              "\n",
              "   deaths_per_million  \n",
              "0           69.071800  \n",
              "1          111.660730  \n",
              "2          470.477208  \n",
              "3          593.423100  \n",
              "4         1237.550828  \n",
              "5          112.395332  \n",
              "6          125.276222  \n",
              "7          887.393445  \n",
              "8          582.331314  \n",
              "9          561.155633  "
            ]
          },
          "execution_count": 284,
          "metadata": {},
          "output_type": "execute_result"
        }
      ],
      "source": [
        "highest_cases_df"
      ]
    },
    {
      "cell_type": "code",
      "execution_count": null,
      "metadata": {
        "colab": {
          "base_uri": "https://localhost:8080/"
        },
        "id": "ZtVWiuXRXe70",
        "outputId": "0c842fc2-c200-4f7f-adcc-dce66c6ace0f"
      },
      "outputs": [
        {
          "name": "stdout",
          "output_type": "stream",
          "text": [
            "[jovian] Detected Colab notebook...\u001b[0m\n",
            "[jovian] jovian.commit() is no longer required on Google Colab. If you ran this notebook from Jovian, \n",
            "then just save this file in Colab using Ctrl+S/Cmd+S and it will be updated on Jovian. \n",
            "Also, you can also delete this cell, it's no longer necessary.\u001b[0m\n"
          ]
        }
      ],
      "source": [
        "jovian.commit(project='pandas-practice-assignment', environment=None)"
      ]
    },
    {
      "cell_type": "markdown",
      "metadata": {
        "id": "a1atiVkqXe72"
      },
      "source": [
        "**Q13: Create a dataframe with 10 countires that have highest number of deaths cases per million people?**"
      ]
    },
    {
      "cell_type": "code",
      "execution_count": null,
      "metadata": {
        "id": "ArlaZq_RXe75"
      },
      "outputs": [],
      "source": [
        "highest_deaths_df = combined_df.sort_values(by='deaths_per_million',ascending=False).head(10).reset_index()"
      ]
    },
    {
      "cell_type": "code",
      "execution_count": null,
      "metadata": {
        "colab": {
          "base_uri": "https://localhost:8080/",
          "height": 514
        },
        "id": "rHlWFKziXe78",
        "outputId": "ebd0410a-9227-4bec-c9b0-ee0303eb9ba4"
      },
      "outputs": [
        {
          "data": {
            "text/html": [
              "\n",
              "  <div id=\"df-6cf76b53-e04b-4c87-9ba9-650628227843\">\n",
              "    <div class=\"colab-df-container\">\n",
              "      <div>\n",
              "<style scoped>\n",
              "    .dataframe tbody tr th:only-of-type {\n",
              "        vertical-align: middle;\n",
              "    }\n",
              "\n",
              "    .dataframe tbody tr th {\n",
              "        vertical-align: top;\n",
              "    }\n",
              "\n",
              "    .dataframe thead th {\n",
              "        text-align: right;\n",
              "    }\n",
              "</style>\n",
              "<table border=\"1\" class=\"dataframe\">\n",
              "  <thead>\n",
              "    <tr style=\"text-align: right;\">\n",
              "      <th></th>\n",
              "      <th>index</th>\n",
              "      <th>location</th>\n",
              "      <th>continent</th>\n",
              "      <th>population</th>\n",
              "      <th>life_expectancy</th>\n",
              "      <th>hospital_beds_per_thousand</th>\n",
              "      <th>gdp_per_capita</th>\n",
              "      <th>gdp</th>\n",
              "      <th>total_cases</th>\n",
              "      <th>total_deaths</th>\n",
              "      <th>total_tests</th>\n",
              "      <th>tests_per_million</th>\n",
              "      <th>cases_per_million</th>\n",
              "      <th>deaths_per_million</th>\n",
              "    </tr>\n",
              "  </thead>\n",
              "  <tbody>\n",
              "    <tr>\n",
              "      <th>0</th>\n",
              "      <td>162</td>\n",
              "      <td>San Marino</td>\n",
              "      <td>Europe</td>\n",
              "      <td>33938.0</td>\n",
              "      <td>84.97</td>\n",
              "      <td>3.80</td>\n",
              "      <td>56861.470</td>\n",
              "      <td>1.929765e+09</td>\n",
              "      <td>735.0</td>\n",
              "      <td>42.0</td>\n",
              "      <td>NaN</td>\n",
              "      <td>NaN</td>\n",
              "      <td>21657.139490</td>\n",
              "      <td>1237.550828</td>\n",
              "    </tr>\n",
              "    <tr>\n",
              "      <th>1</th>\n",
              "      <td>150</td>\n",
              "      <td>Peru</td>\n",
              "      <td>South America</td>\n",
              "      <td>32971846.0</td>\n",
              "      <td>76.74</td>\n",
              "      <td>1.60</td>\n",
              "      <td>12236.706</td>\n",
              "      <td>4.034668e+11</td>\n",
              "      <td>663437.0</td>\n",
              "      <td>29259.0</td>\n",
              "      <td>584232.0</td>\n",
              "      <td>17719.117092</td>\n",
              "      <td>20121.318048</td>\n",
              "      <td>887.393445</td>\n",
              "    </tr>\n",
              "    <tr>\n",
              "      <th>2</th>\n",
              "      <td>18</td>\n",
              "      <td>Belgium</td>\n",
              "      <td>Europe</td>\n",
              "      <td>11589616.0</td>\n",
              "      <td>81.63</td>\n",
              "      <td>5.64</td>\n",
              "      <td>42658.576</td>\n",
              "      <td>4.943965e+11</td>\n",
              "      <td>85817.0</td>\n",
              "      <td>9898.0</td>\n",
              "      <td>2281853.0</td>\n",
              "      <td>196887.713967</td>\n",
              "      <td>7404.645676</td>\n",
              "      <td>854.040375</td>\n",
              "    </tr>\n",
              "    <tr>\n",
              "      <th>3</th>\n",
              "      <td>3</td>\n",
              "      <td>Andorra</td>\n",
              "      <td>Europe</td>\n",
              "      <td>77265.0</td>\n",
              "      <td>83.73</td>\n",
              "      <td>NaN</td>\n",
              "      <td>NaN</td>\n",
              "      <td>NaN</td>\n",
              "      <td>1199.0</td>\n",
              "      <td>53.0</td>\n",
              "      <td>NaN</td>\n",
              "      <td>NaN</td>\n",
              "      <td>15518.022390</td>\n",
              "      <td>685.950948</td>\n",
              "    </tr>\n",
              "    <tr>\n",
              "      <th>4</th>\n",
              "      <td>177</td>\n",
              "      <td>Spain</td>\n",
              "      <td>Europe</td>\n",
              "      <td>46754783.0</td>\n",
              "      <td>83.56</td>\n",
              "      <td>2.97</td>\n",
              "      <td>34272.360</td>\n",
              "      <td>1.602397e+12</td>\n",
              "      <td>479554.0</td>\n",
              "      <td>29194.0</td>\n",
              "      <td>6416533.0</td>\n",
              "      <td>137238.001939</td>\n",
              "      <td>10256.790198</td>\n",
              "      <td>624.406705</td>\n",
              "    </tr>\n",
              "    <tr>\n",
              "      <th>5</th>\n",
              "      <td>198</td>\n",
              "      <td>United Kingdom</td>\n",
              "      <td>Europe</td>\n",
              "      <td>67886004.0</td>\n",
              "      <td>81.32</td>\n",
              "      <td>2.54</td>\n",
              "      <td>39753.244</td>\n",
              "      <td>2.698689e+12</td>\n",
              "      <td>338676.0</td>\n",
              "      <td>41514.0</td>\n",
              "      <td>13447568.0</td>\n",
              "      <td>198090.434075</td>\n",
              "      <td>4988.892850</td>\n",
              "      <td>611.525168</td>\n",
              "    </tr>\n",
              "    <tr>\n",
              "      <th>6</th>\n",
              "      <td>40</td>\n",
              "      <td>Chile</td>\n",
              "      <td>South America</td>\n",
              "      <td>19116209.0</td>\n",
              "      <td>80.18</td>\n",
              "      <td>2.11</td>\n",
              "      <td>22767.037</td>\n",
              "      <td>4.352194e+11</td>\n",
              "      <td>414739.0</td>\n",
              "      <td>11344.0</td>\n",
              "      <td>2458762.0</td>\n",
              "      <td>128621.841287</td>\n",
              "      <td>21695.671982</td>\n",
              "      <td>593.423100</td>\n",
              "    </tr>\n",
              "    <tr>\n",
              "      <th>7</th>\n",
              "      <td>97</td>\n",
              "      <td>Italy</td>\n",
              "      <td>Europe</td>\n",
              "      <td>60461828.0</td>\n",
              "      <td>83.51</td>\n",
              "      <td>3.18</td>\n",
              "      <td>35220.084</td>\n",
              "      <td>2.129471e+12</td>\n",
              "      <td>271515.0</td>\n",
              "      <td>35497.0</td>\n",
              "      <td>5214766.0</td>\n",
              "      <td>86248.897403</td>\n",
              "      <td>4490.684602</td>\n",
              "      <td>587.097697</td>\n",
              "    </tr>\n",
              "    <tr>\n",
              "      <th>8</th>\n",
              "      <td>27</td>\n",
              "      <td>Brazil</td>\n",
              "      <td>South America</td>\n",
              "      <td>212559409.0</td>\n",
              "      <td>75.88</td>\n",
              "      <td>2.20</td>\n",
              "      <td>14103.452</td>\n",
              "      <td>2.997821e+12</td>\n",
              "      <td>3997865.0</td>\n",
              "      <td>123780.0</td>\n",
              "      <td>4797948.0</td>\n",
              "      <td>22572.268255</td>\n",
              "      <td>18808.224105</td>\n",
              "      <td>582.331314</td>\n",
              "    </tr>\n",
              "    <tr>\n",
              "      <th>9</th>\n",
              "      <td>182</td>\n",
              "      <td>Sweden</td>\n",
              "      <td>Europe</td>\n",
              "      <td>10099270.0</td>\n",
              "      <td>82.80</td>\n",
              "      <td>2.22</td>\n",
              "      <td>46949.283</td>\n",
              "      <td>4.741535e+11</td>\n",
              "      <td>84532.0</td>\n",
              "      <td>5820.0</td>\n",
              "      <td>NaN</td>\n",
              "      <td>NaN</td>\n",
              "      <td>8370.109919</td>\n",
              "      <td>576.279276</td>\n",
              "    </tr>\n",
              "  </tbody>\n",
              "</table>\n",
              "</div>\n",
              "      <button class=\"colab-df-convert\" onclick=\"convertToInteractive('df-6cf76b53-e04b-4c87-9ba9-650628227843')\"\n",
              "              title=\"Convert this dataframe to an interactive table.\"\n",
              "              style=\"display:none;\">\n",
              "        \n",
              "  <svg xmlns=\"http://www.w3.org/2000/svg\" height=\"24px\"viewBox=\"0 0 24 24\"\n",
              "       width=\"24px\">\n",
              "    <path d=\"M0 0h24v24H0V0z\" fill=\"none\"/>\n",
              "    <path d=\"M18.56 5.44l.94 2.06.94-2.06 2.06-.94-2.06-.94-.94-2.06-.94 2.06-2.06.94zm-11 1L8.5 8.5l.94-2.06 2.06-.94-2.06-.94L8.5 2.5l-.94 2.06-2.06.94zm10 10l.94 2.06.94-2.06 2.06-.94-2.06-.94-.94-2.06-.94 2.06-2.06.94z\"/><path d=\"M17.41 7.96l-1.37-1.37c-.4-.4-.92-.59-1.43-.59-.52 0-1.04.2-1.43.59L10.3 9.45l-7.72 7.72c-.78.78-.78 2.05 0 2.83L4 21.41c.39.39.9.59 1.41.59.51 0 1.02-.2 1.41-.59l7.78-7.78 2.81-2.81c.8-.78.8-2.07 0-2.86zM5.41 20L4 18.59l7.72-7.72 1.47 1.35L5.41 20z\"/>\n",
              "  </svg>\n",
              "      </button>\n",
              "      \n",
              "  <style>\n",
              "    .colab-df-container {\n",
              "      display:flex;\n",
              "      flex-wrap:wrap;\n",
              "      gap: 12px;\n",
              "    }\n",
              "\n",
              "    .colab-df-convert {\n",
              "      background-color: #E8F0FE;\n",
              "      border: none;\n",
              "      border-radius: 50%;\n",
              "      cursor: pointer;\n",
              "      display: none;\n",
              "      fill: #1967D2;\n",
              "      height: 32px;\n",
              "      padding: 0 0 0 0;\n",
              "      width: 32px;\n",
              "    }\n",
              "\n",
              "    .colab-df-convert:hover {\n",
              "      background-color: #E2EBFA;\n",
              "      box-shadow: 0px 1px 2px rgba(60, 64, 67, 0.3), 0px 1px 3px 1px rgba(60, 64, 67, 0.15);\n",
              "      fill: #174EA6;\n",
              "    }\n",
              "\n",
              "    [theme=dark] .colab-df-convert {\n",
              "      background-color: #3B4455;\n",
              "      fill: #D2E3FC;\n",
              "    }\n",
              "\n",
              "    [theme=dark] .colab-df-convert:hover {\n",
              "      background-color: #434B5C;\n",
              "      box-shadow: 0px 1px 3px 1px rgba(0, 0, 0, 0.15);\n",
              "      filter: drop-shadow(0px 1px 2px rgba(0, 0, 0, 0.3));\n",
              "      fill: #FFFFFF;\n",
              "    }\n",
              "  </style>\n",
              "\n",
              "      <script>\n",
              "        const buttonEl =\n",
              "          document.querySelector('#df-6cf76b53-e04b-4c87-9ba9-650628227843 button.colab-df-convert');\n",
              "        buttonEl.style.display =\n",
              "          google.colab.kernel.accessAllowed ? 'block' : 'none';\n",
              "\n",
              "        async function convertToInteractive(key) {\n",
              "          const element = document.querySelector('#df-6cf76b53-e04b-4c87-9ba9-650628227843');\n",
              "          const dataTable =\n",
              "            await google.colab.kernel.invokeFunction('convertToInteractive',\n",
              "                                                     [key], {});\n",
              "          if (!dataTable) return;\n",
              "\n",
              "          const docLinkHtml = 'Like what you see? Visit the ' +\n",
              "            '<a target=\"_blank\" href=https://colab.research.google.com/notebooks/data_table.ipynb>data table notebook</a>'\n",
              "            + ' to learn more about interactive tables.';\n",
              "          element.innerHTML = '';\n",
              "          dataTable['output_type'] = 'display_data';\n",
              "          await google.colab.output.renderOutput(dataTable, element);\n",
              "          const docLink = document.createElement('div');\n",
              "          docLink.innerHTML = docLinkHtml;\n",
              "          element.appendChild(docLink);\n",
              "        }\n",
              "      </script>\n",
              "    </div>\n",
              "  </div>\n",
              "  "
            ],
            "text/plain": [
              "   index        location      continent   population  life_expectancy  \\\n",
              "0    162      San Marino         Europe      33938.0            84.97   \n",
              "1    150            Peru  South America   32971846.0            76.74   \n",
              "2     18         Belgium         Europe   11589616.0            81.63   \n",
              "3      3         Andorra         Europe      77265.0            83.73   \n",
              "4    177           Spain         Europe   46754783.0            83.56   \n",
              "5    198  United Kingdom         Europe   67886004.0            81.32   \n",
              "6     40           Chile  South America   19116209.0            80.18   \n",
              "7     97           Italy         Europe   60461828.0            83.51   \n",
              "8     27          Brazil  South America  212559409.0            75.88   \n",
              "9    182          Sweden         Europe   10099270.0            82.80   \n",
              "\n",
              "   hospital_beds_per_thousand  gdp_per_capita           gdp  total_cases  \\\n",
              "0                        3.80       56861.470  1.929765e+09        735.0   \n",
              "1                        1.60       12236.706  4.034668e+11     663437.0   \n",
              "2                        5.64       42658.576  4.943965e+11      85817.0   \n",
              "3                         NaN             NaN           NaN       1199.0   \n",
              "4                        2.97       34272.360  1.602397e+12     479554.0   \n",
              "5                        2.54       39753.244  2.698689e+12     338676.0   \n",
              "6                        2.11       22767.037  4.352194e+11     414739.0   \n",
              "7                        3.18       35220.084  2.129471e+12     271515.0   \n",
              "8                        2.20       14103.452  2.997821e+12    3997865.0   \n",
              "9                        2.22       46949.283  4.741535e+11      84532.0   \n",
              "\n",
              "   total_deaths  total_tests  tests_per_million  cases_per_million  \\\n",
              "0          42.0          NaN                NaN       21657.139490   \n",
              "1       29259.0     584232.0       17719.117092       20121.318048   \n",
              "2        9898.0    2281853.0      196887.713967        7404.645676   \n",
              "3          53.0          NaN                NaN       15518.022390   \n",
              "4       29194.0    6416533.0      137238.001939       10256.790198   \n",
              "5       41514.0   13447568.0      198090.434075        4988.892850   \n",
              "6       11344.0    2458762.0      128621.841287       21695.671982   \n",
              "7       35497.0    5214766.0       86248.897403        4490.684602   \n",
              "8      123780.0    4797948.0       22572.268255       18808.224105   \n",
              "9        5820.0          NaN                NaN        8370.109919   \n",
              "\n",
              "   deaths_per_million  \n",
              "0         1237.550828  \n",
              "1          887.393445  \n",
              "2          854.040375  \n",
              "3          685.950948  \n",
              "4          624.406705  \n",
              "5          611.525168  \n",
              "6          593.423100  \n",
              "7          587.097697  \n",
              "8          582.331314  \n",
              "9          576.279276  "
            ]
          },
          "execution_count": 287,
          "metadata": {},
          "output_type": "execute_result"
        }
      ],
      "source": [
        "highest_deaths_df"
      ]
    },
    {
      "cell_type": "code",
      "execution_count": null,
      "metadata": {
        "colab": {
          "base_uri": "https://localhost:8080/"
        },
        "id": "eK94GwFWXe7-",
        "outputId": "545dfdaf-1a81-41cb-8612-f55b3d44e450"
      },
      "outputs": [
        {
          "name": "stdout",
          "output_type": "stream",
          "text": [
            "[jovian] Detected Colab notebook...\u001b[0m\n",
            "[jovian] jovian.commit() is no longer required on Google Colab. If you ran this notebook from Jovian, \n",
            "then just save this file in Colab using Ctrl+S/Cmd+S and it will be updated on Jovian. \n",
            "Also, you can also delete this cell, it's no longer necessary.\u001b[0m\n"
          ]
        }
      ],
      "source": [
        "jovian.commit(project='pandas-practice-assignment', environment=None)"
      ]
    },
    {
      "cell_type": "markdown",
      "metadata": {
        "id": "7ZZE3A6UXe8A"
      },
      "source": [
        "**(Optional) Q: Count number of countries that feature in both the lists of \"highest number of tests per million\" and \"highest number of cases per million\".**"
      ]
    },
    {
      "cell_type": "code",
      "execution_count": null,
      "metadata": {
        "id": "jO5ypC4NXe8B"
      },
      "outputs": [],
      "source": []
    },
    {
      "cell_type": "code",
      "execution_count": null,
      "metadata": {
        "id": "gVe0KAG7Xe8D"
      },
      "outputs": [],
      "source": []
    },
    {
      "cell_type": "code",
      "execution_count": null,
      "metadata": {
        "id": "dMKsZljQXe8F"
      },
      "outputs": [],
      "source": []
    },
    {
      "cell_type": "code",
      "execution_count": null,
      "metadata": {
        "colab": {
          "base_uri": "https://localhost:8080/"
        },
        "id": "8OdLPeWEXe8H",
        "outputId": "46ac2675-340e-425b-db94-34d33b56b893"
      },
      "outputs": [
        {
          "name": "stdout",
          "output_type": "stream",
          "text": [
            "[jovian] Detected Colab notebook...\u001b[0m\n",
            "[jovian] jovian.commit() is no longer required on Google Colab. If you ran this notebook from Jovian, \n",
            "then just save this file in Colab using Ctrl+S/Cmd+S and it will be updated on Jovian. \n",
            "Also, you can also delete this cell, it's no longer necessary.\u001b[0m\n"
          ]
        }
      ],
      "source": [
        "jovian.commit(project='pandas-practice-assignment', environment=None)"
      ]
    },
    {
      "cell_type": "markdown",
      "metadata": {
        "id": "4pLLI6mpXe8J"
      },
      "source": [
        "**(Optional) Q: Count number of countries that feature in both the lists \"20 countries with lowest GDP per capita\" and \"20 countries with the lowest number of hospital beds per thousand population\". Only consider countries with a population higher than 10 million while creating the list.**"
      ]
    },
    {
      "cell_type": "code",
      "execution_count": null,
      "metadata": {
        "id": "uAxRan4GXe8L"
      },
      "outputs": [],
      "source": []
    },
    {
      "cell_type": "code",
      "execution_count": null,
      "metadata": {
        "id": "qBtOernoXe8N"
      },
      "outputs": [],
      "source": []
    },
    {
      "cell_type": "code",
      "execution_count": null,
      "metadata": {
        "id": "T3sV2A3gXe8O"
      },
      "outputs": [],
      "source": []
    },
    {
      "cell_type": "code",
      "execution_count": null,
      "metadata": {
        "id": "INYZAt6iXe8Q"
      },
      "outputs": [],
      "source": [
        "import jovian"
      ]
    },
    {
      "cell_type": "code",
      "execution_count": null,
      "metadata": {
        "colab": {
          "base_uri": "https://localhost:8080/"
        },
        "id": "qeA954dGXe8S",
        "outputId": "7a6b35a2-96a3-4b2a-b1aa-a36988c53d05"
      },
      "outputs": [
        {
          "name": "stdout",
          "output_type": "stream",
          "text": [
            "[jovian] Detected Colab notebook...\u001b[0m\n",
            "[jovian] jovian.commit() is no longer required on Google Colab. If you ran this notebook from Jovian, \n",
            "then just save this file in Colab using Ctrl+S/Cmd+S and it will be updated on Jovian. \n",
            "Also, you can also delete this cell, it's no longer necessary.\u001b[0m\n"
          ]
        }
      ],
      "source": [
        "jovian.commit(project='pandas-practice-assignment', environment=None)"
      ]
    },
    {
      "cell_type": "markdown",
      "metadata": {
        "id": "XMcglw69Xe8U"
      },
      "source": [
        "## Submission\n",
        "\n",
        "Congratulations on making it this far! You've reached the end of this assignment, and you just completed your first real-world data analysis problem. It's time to record one final version of your notebook for submission.\n",
        "\n",
        "Make a submission here by filling the submission form: https://jovian.ai/learn/data-analysis-with-python-zero-to-pandas/assignment/assignment-3-pandas-practice\n",
        "\n",
        "Also make sure to help others on the forum: https://jovian.ai/forum/t/assignment-3-pandas-practice/11225/2"
      ]
    },
    {
      "cell_type": "code",
      "execution_count": null,
      "metadata": {
        "id": "ipHJVtGZXe8V"
      },
      "outputs": [],
      "source": []
    }
  ],
  "metadata": {
    "colab": {
      "provenance": [],
      "include_colab_link": true
    },
    "kernelspec": {
      "display_name": "Python 3",
      "language": "python",
      "name": "python3"
    },
    "language_info": {
      "codemirror_mode": {
        "name": "ipython",
        "version": 3
      },
      "file_extension": ".py",
      "mimetype": "text/x-python",
      "name": "python",
      "nbconvert_exporter": "python",
      "pygments_lexer": "ipython3",
      "version": "3.8.6"
    }
  },
  "nbformat": 4,
  "nbformat_minor": 0
}